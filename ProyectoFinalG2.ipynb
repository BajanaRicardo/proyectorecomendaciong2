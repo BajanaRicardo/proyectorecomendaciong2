{
  "nbformat": 4,
  "nbformat_minor": 0,
  "metadata": {
    "colab": {
      "provenance": []
    },
    "kernelspec": {
      "name": "python3",
      "display_name": "Python 3"
    },
    "language_info": {
      "name": "python"
    }
  },
  "cells": [
    {
      "cell_type": "code",
      "execution_count": null,
      "metadata": {
        "colab": {
          "base_uri": "https://localhost:8080/"
        },
        "id": "OwTy6yWJTgp0",
        "outputId": "57744b43-05e9-4230-d363-d4f4d9467e0b"
      },
      "outputs": [
        {
          "output_type": "stream",
          "name": "stdout",
          "text": [
            "Collecting pyspark\n",
            "  Downloading pyspark-3.5.0.tar.gz (316.9 MB)\n",
            "\u001b[2K     \u001b[90m━━━━━━━━━━━━━━━━━━━━━━━━━━━━━━━━━━━━━━━━\u001b[0m \u001b[32m316.9/316.9 MB\u001b[0m \u001b[31m2.7 MB/s\u001b[0m eta \u001b[36m0:00:00\u001b[0m\n",
            "\u001b[?25h  Preparing metadata (setup.py) ... \u001b[?25l\u001b[?25hdone\n",
            "Requirement already satisfied: py4j==0.10.9.7 in /usr/local/lib/python3.10/dist-packages (from pyspark) (0.10.9.7)\n",
            "Building wheels for collected packages: pyspark\n",
            "  Building wheel for pyspark (setup.py) ... \u001b[?25l\u001b[?25hdone\n",
            "  Created wheel for pyspark: filename=pyspark-3.5.0-py2.py3-none-any.whl size=317425345 sha256=cc69e528b2c05149a77e093e8fac4124bfa9a44997166340fd5f5c1d67177b21\n",
            "  Stored in directory: /root/.cache/pip/wheels/41/4e/10/c2cf2467f71c678cfc8a6b9ac9241e5e44a01940da8fbb17fc\n",
            "Successfully built pyspark\n",
            "Installing collected packages: pyspark\n",
            "Successfully installed pyspark-3.5.0\n"
          ]
        }
      ],
      "source": [
        "!pip install pyspark"
      ]
    },
    {
      "cell_type": "code",
      "source": [
        "from pyspark.sql import SparkSession\n",
        "spark = SparkSession.builder.master(\"local\").appName(\"als\").config('spark.ui.port','4050').getOrCreate()"
      ],
      "metadata": {
        "id": "Z0reRnlyUVK2"
      },
      "execution_count": null,
      "outputs": []
    },
    {
      "cell_type": "code",
      "source": [
        "from google.colab import drive\n",
        "drive.mount('/content/drive')"
      ],
      "metadata": {
        "colab": {
          "base_uri": "https://localhost:8080/"
        },
        "id": "kPgVxJkSUh5W",
        "outputId": "e4977030-5680-4edf-948e-a8e505f97519"
      },
      "execution_count": null,
      "outputs": [
        {
          "output_type": "stream",
          "name": "stdout",
          "text": [
            "Mounted at /content/drive\n"
          ]
        }
      ]
    },
    {
      "cell_type": "markdown",
      "source": [
        "#1. Carga de datos"
      ],
      "metadata": {
        "id": "RJZV-Q50g1BT"
      }
    },
    {
      "cell_type": "code",
      "source": [
        "from zipfile import ZipFile\n",
        "import os\n",
        "\n",
        "# Ruta del archivo zip\n",
        "games_zip = \"/content/drive/MyDrive/Datos Masivos/Proyectos/Proyecto_final/Datos/games.csv.zip\"\n",
        "\n",
        "# Ruta de destino para la extracción\n",
        "destino_extraccion = \"/content/drive/MyDrive/Datos Masivos/Proyectos/Proyecto_final/Datos/Descomprimido\"\n",
        "\n",
        "# Descomprimir el archivo zip\n",
        "with ZipFile(games_zip, 'r') as zip_ref:\n",
        "    zip_ref.extractall(destino_extraccion)"
      ],
      "metadata": {
        "id": "mPb6laM9eGG1"
      },
      "execution_count": null,
      "outputs": []
    },
    {
      "cell_type": "code",
      "source": [
        "# Ruta del archivo zip\n",
        "games_metadata_zip = \"/content/drive/MyDrive/Datos Masivos/Proyectos/Proyecto_final/Datos/games_metadata.json.zip\"\n",
        "\n",
        "# Ruta de destino para la extracción\n",
        "destino_extraccion2 = \"/content/drive/MyDrive/Datos Masivos/Proyectos/Proyecto_final/Datos/Descomprimido\"\n",
        "\n",
        "# Descomprimir el archivo zip\n",
        "with ZipFile(games_metadata_zip, 'r') as zip_ref:\n",
        "    zip_ref.extractall(destino_extraccion2)"
      ],
      "metadata": {
        "id": "8c5nZlEqfDV0"
      },
      "execution_count": null,
      "outputs": []
    },
    {
      "cell_type": "code",
      "source": [
        "# Ruta del archivo zip\n",
        "recommendations_zip = \"/content/drive/MyDrive/Datos Masivos/Proyectos/Proyecto_final/Datos/recommendations.csv.zip\"\n",
        "\n",
        "# Ruta de destino para la extracción\n",
        "destino_extraccion3 = \"/content/drive/MyDrive/Datos Masivos/Proyectos/Proyecto_final/Datos/Descomprimido\"\n",
        "\n",
        "# Descomprimir el archivo zip\n",
        "with ZipFile(recommendations_zip, 'r') as zip_ref:\n",
        "    zip_ref.extractall(destino_extraccion3)"
      ],
      "metadata": {
        "id": "_hCvHCQ9fDOi"
      },
      "execution_count": null,
      "outputs": []
    },
    {
      "cell_type": "code",
      "source": [
        "# Ruta del archivo zip\n",
        "users_zip = \"/content/drive/MyDrive/Datos Masivos/Proyectos/Proyecto_final/Datos/users.csv.zip\"\n",
        "\n",
        "# Ruta de destino para la extracción\n",
        "destino_extraccion4 = \"/content/drive/MyDrive/Datos Masivos/Proyectos/Proyecto_final/Datos/Descomprimido\"\n",
        "\n",
        "# Descomprimir el archivo zip\n",
        "with ZipFile(users_zip, 'r') as zip_ref:\n",
        "    zip_ref.extractall(destino_extraccion4)"
      ],
      "metadata": {
        "id": "9EseaYrhfDGg"
      },
      "execution_count": null,
      "outputs": []
    },
    {
      "cell_type": "code",
      "source": [
        "#Carga de datos\n",
        "juegos = spark.read.csv(\"/content/drive/MyDrive/Datos Masivos/Proyectos/Proyecto_final/Datos/Descomprimido/games.csv\",header=True)\n",
        "recomendaciones = spark.read.csv(\"/content/drive/MyDrive/Datos Masivos/Proyectos/Proyecto_final/Datos/Descomprimido/recommendations.csv\",header=True)\n",
        "usuarios = spark.read.csv(\"/content/drive/MyDrive/Datos Masivos/Proyectos/Proyecto_final/Datos/Descomprimido/users.csv\",header=True)"
      ],
      "metadata": {
        "id": "GgvfeZf1U8ku"
      },
      "execution_count": null,
      "outputs": []
    },
    {
      "cell_type": "code",
      "source": [
        "juegos.show()"
      ],
      "metadata": {
        "colab": {
          "base_uri": "https://localhost:8080/"
        },
        "id": "-gOwYl_PhZ4L",
        "outputId": "632f2e52-4ecc-4896-d5d3-ab5817bd45b5"
      },
      "execution_count": null,
      "outputs": [
        {
          "output_type": "stream",
          "name": "stdout",
          "text": [
            "+------+--------------------+------------+----+-----+-----+---------------+--------------+------------+-----------+--------------+--------+----------+\n",
            "|app_id|               title|date_release| win|  mac|linux|         rating|positive_ratio|user_reviews|price_final|price_original|discount|steam_deck|\n",
            "+------+--------------------+------------+----+-----+-----+---------------+--------------+------------+-----------+--------------+--------+----------+\n",
            "| 13500|Prince of Persia:...|  2008-11-21|true|false|false|  Very Positive|            84|        2199|       9.99|          9.99|     0.0|      true|\n",
            "| 22364|BRINK: Agents of ...|  2011-08-03|true|false|false|       Positive|            85|          21|       2.99|          2.99|     0.0|      true|\n",
            "|113020|Monaco: What's Yo...|  2013-04-24|true| true| true|  Very Positive|            92|        3722|      14.99|         14.99|     0.0|      true|\n",
            "|226560|  Escape Dead Island|  2014-11-18|true|false|false|          Mixed|            61|         873|      14.99|         14.99|     0.0|      true|\n",
            "|249050|Dungeon of the EN...|  2014-10-27|true| true|false|  Very Positive|            88|        8784|      11.99|         11.99|     0.0|      true|\n",
            "|250180|        METAL SLUG 3|  2015-09-14|true|false|false|  Very Positive|            90|        5579|       7.99|          7.99|     0.0|      true|\n",
            "|253980|             Enclave|  2013-10-04|true| true| true|Mostly Positive|            75|        1608|       4.99|          4.99|     0.0|      true|\n",
            "|271850|Men of War: Assau...|  2014-05-16|true|false|false|          Mixed|            61|         199|       6.99|          6.99|     0.0|      true|\n",
            "|282900|Hyperdimension Ne...|  2015-01-29|true|false|false|  Very Positive|            94|        9686|      14.99|         14.99|     0.0|      true|\n",
            "| 19810|The Sum of All Fears|  2008-10-10|true|false|false|Mostly Positive|            75|          33|       9.99|          9.99|     0.0|      true|\n",
            "| 15270|          Cold Fear™|  2008-05-13|true|false|false|  Very Positive|            85|         800|       9.99|          9.99|     0.0|      true|\n",
            "| 21130|LEGO® Harry Potte...|  2010-06-25|true|false|false|  Very Positive|            85|        5169|      19.99|         19.99|     0.0|      true|\n",
            "| 22130|Hearts of Iron 2 ...|  2009-01-23|true|false|false|  Very Positive|            85|         462|      14.99|         14.99|     0.0|      true|\n",
            "| 29180|               Osmos|  2009-08-18|true| true| true|  Very Positive|            88|         532|       9.99|          9.99|     0.0|      true|\n",
            "| 32750|          Comanche 4|  2009-06-18|true|false|false|  Very Positive|            90|         222|       9.99|          9.99|     0.0|      true|\n",
            "|241620|          Inquisitor|  2013-08-01|true|false|false|Mostly Positive|            70|         390|       9.99|          9.99|     0.0|      true|\n",
            "|408520|                FORM|  2017-06-01|true|false|false|  Very Positive|            91|         934|      14.99|         14.99|     0.0|      true|\n",
            "|244910|            Homesick|  2015-05-28|true|false|false|Mostly Positive|            77|        1139|      14.99|         14.99|     0.0|      true|\n",
            "|245950|Borderlands 2: He...|  2014-02-11|true| true| true|  Very Positive|            84|         294|       0.89|          2.99|    70.0|      true|\n",
            "|250460|  Bridge Constructor|  2013-10-16|true| true| true|Mostly Positive|            77|         716|       2.39|         19.99|    88.0|      true|\n",
            "+------+--------------------+------------+----+-----+-----+---------------+--------------+------------+-----------+--------------+--------+----------+\n",
            "only showing top 20 rows\n",
            "\n"
          ]
        }
      ]
    },
    {
      "cell_type": "code",
      "source": [
        "recomendaciones.show()"
      ],
      "metadata": {
        "colab": {
          "base_uri": "https://localhost:8080/"
        },
        "id": "uN2sZl-JhmP_",
        "outputId": "82a16851-92a7-4c2d-a82b-668994cffb8d"
      },
      "execution_count": null,
      "outputs": [
        {
          "output_type": "stream",
          "name": "stdout",
          "text": [
            "+-------+-------+-----+----------+--------------+-----+-------+---------+\n",
            "| app_id|helpful|funny|      date|is_recommended|hours|user_id|review_id|\n",
            "+-------+-------+-----+----------+--------------+-----+-------+---------+\n",
            "| 975370|      0|    0|2022-12-12|          true| 36.3|  51580|        0|\n",
            "| 304390|      4|    0|2017-02-17|         false| 11.5|   2586|        1|\n",
            "|1085660|      2|    0|2019-11-17|          true|336.5| 253880|        2|\n",
            "| 703080|      0|    0|2022-09-23|          true| 27.4| 259432|        3|\n",
            "| 526870|      0|    0|2021-01-10|          true|  7.9|  23869|        4|\n",
            "| 306130|      0|    0|2021-10-10|          true|  8.6|  45425|        5|\n",
            "| 238960|      0|    0|2017-11-25|          true|538.8|  88282|        6|\n",
            "|    730|      0|    0|2021-11-30|         false|157.5|  63209|        7|\n",
            "| 255710|      0|    0|2021-05-21|          true| 18.7| 354512|        8|\n",
            "| 289070|      0|    0|2020-05-26|          true|397.5| 454422|        9|\n",
            "| 431960|      0|    0|2020-10-14|          true| 30.3| 199725|       10|\n",
            "|1086940|      0|    0|2020-10-07|          true| 50.0|  85822|       11|\n",
            "|1938090|      0|    0|2022-11-16|          true| 46.7| 161081|       12|\n",
            "|1286830|      2|    0|2020-07-26|          true| 19.3| 113279|       13|\n",
            "|1172620|      0|    0|2020-11-04|          true| 89.1| 122640|       14|\n",
            "| 306130|      0|    0|2021-05-12|          true| 61.1|  75422|       15|\n",
            "| 635260|      0|    0|2022-01-30|          true|177.0|  76583|       16|\n",
            "|1151340|      0|    0|2020-07-01|          true| 86.3| 124924|       17|\n",
            "| 289070|      0|    0|2020-05-29|          true|244.1| 261528|       18|\n",
            "| 392160|      3|    0|2018-12-26|         false|320.5| 408750|       19|\n",
            "+-------+-------+-----+----------+--------------+-----+-------+---------+\n",
            "only showing top 20 rows\n",
            "\n"
          ]
        }
      ]
    },
    {
      "cell_type": "code",
      "source": [
        "usuarios.show()"
      ],
      "metadata": {
        "colab": {
          "base_uri": "https://localhost:8080/"
        },
        "id": "ko91yvNUhsKg",
        "outputId": "9af26d78-79b4-4554-fea7-b5c7cb2d0431"
      },
      "execution_count": null,
      "outputs": [
        {
          "output_type": "stream",
          "name": "stdout",
          "text": [
            "+--------+--------+-------+\n",
            "| user_id|products|reviews|\n",
            "+--------+--------+-------+\n",
            "| 7360263|     359|      0|\n",
            "|14020781|     156|      1|\n",
            "| 8762579|     329|      4|\n",
            "| 4820647|     176|      4|\n",
            "| 5167327|      98|      2|\n",
            "| 5664667|     145|      5|\n",
            "| 5889167|     447|      2|\n",
            "| 7281762|    1083|      1|\n",
            "| 7445952|     273|      1|\n",
            "| 7462927|      51|      1|\n",
            "| 7922733|     108|      2|\n",
            "| 9201535|     166|      1|\n",
            "| 9514331|     237|      4|\n",
            "| 9972262|     250|      3|\n",
            "|10184828|     187|      1|\n",
            "|10714376|    1824|      2|\n",
            "|11237958|      12|      1|\n",
            "|11274058|     102|      4|\n",
            "|11300174|     210|     17|\n",
            "|11463309|     318|      5|\n",
            "+--------+--------+-------+\n",
            "only showing top 20 rows\n",
            "\n"
          ]
        }
      ]
    },
    {
      "cell_type": "markdown",
      "source": [
        "#2. Limpieza de datos"
      ],
      "metadata": {
        "id": "8BOTuMgGlIRO"
      }
    },
    {
      "cell_type": "markdown",
      "source": [
        "##Cambio a entero al dataframe juegos"
      ],
      "metadata": {
        "id": "sPp6FXoXlgJe"
      }
    },
    {
      "cell_type": "code",
      "source": [
        "juegos.printSchema()"
      ],
      "metadata": {
        "colab": {
          "base_uri": "https://localhost:8080/"
        },
        "id": "qEUMRQwXlOeC",
        "outputId": "e26b07cb-9792-40d0-e7c3-96f31b5aecf4"
      },
      "execution_count": null,
      "outputs": [
        {
          "output_type": "stream",
          "name": "stdout",
          "text": [
            "root\n",
            " |-- app_id: string (nullable = true)\n",
            " |-- title: string (nullable = true)\n",
            " |-- date_release: string (nullable = true)\n",
            " |-- win: string (nullable = true)\n",
            " |-- mac: string (nullable = true)\n",
            " |-- linux: string (nullable = true)\n",
            " |-- rating: string (nullable = true)\n",
            " |-- positive_ratio: string (nullable = true)\n",
            " |-- user_reviews: string (nullable = true)\n",
            " |-- price_final: string (nullable = true)\n",
            " |-- price_original: string (nullable = true)\n",
            " |-- discount: string (nullable = true)\n",
            " |-- steam_deck: string (nullable = true)\n",
            "\n"
          ]
        }
      ]
    },
    {
      "cell_type": "code",
      "source": [
        "from pyspark.sql.functions import col,explode\n",
        "juegos = juegos.\\\n",
        "          withColumn('app_id',col('app_id').cast('integer')).\\\n",
        "          withColumn('positive_ratio',col('positive_ratio').cast('integer')).\\\n",
        "          withColumn('user_reviews',col('user_reviews').cast('integer'))\n",
        "juegos.printSchema()"
      ],
      "metadata": {
        "colab": {
          "base_uri": "https://localhost:8080/"
        },
        "id": "lijtbhy3mIYT",
        "outputId": "52f3a562-1a75-47e0-98c5-33492f768646"
      },
      "execution_count": null,
      "outputs": [
        {
          "output_type": "stream",
          "name": "stdout",
          "text": [
            "root\n",
            " |-- app_id: integer (nullable = true)\n",
            " |-- title: string (nullable = true)\n",
            " |-- date_release: string (nullable = true)\n",
            " |-- win: string (nullable = true)\n",
            " |-- mac: string (nullable = true)\n",
            " |-- linux: string (nullable = true)\n",
            " |-- rating: string (nullable = true)\n",
            " |-- positive_ratio: integer (nullable = true)\n",
            " |-- user_reviews: integer (nullable = true)\n",
            " |-- price_final: string (nullable = true)\n",
            " |-- price_original: string (nullable = true)\n",
            " |-- discount: string (nullable = true)\n",
            " |-- steam_deck: string (nullable = true)\n",
            "\n"
          ]
        }
      ]
    },
    {
      "cell_type": "markdown",
      "source": [
        "##Cambio a entero al dataframe recomendaciones"
      ],
      "metadata": {
        "id": "mElsqZBJpd2D"
      }
    },
    {
      "cell_type": "code",
      "source": [
        "recomendaciones.printSchema()"
      ],
      "metadata": {
        "colab": {
          "base_uri": "https://localhost:8080/"
        },
        "id": "q7qQjLPuptYD",
        "outputId": "1cec803b-ce07-4747-e958-e14523a9f652"
      },
      "execution_count": null,
      "outputs": [
        {
          "output_type": "stream",
          "name": "stdout",
          "text": [
            "root\n",
            " |-- app_id: string (nullable = true)\n",
            " |-- helpful: string (nullable = true)\n",
            " |-- funny: string (nullable = true)\n",
            " |-- date: string (nullable = true)\n",
            " |-- is_recommended: string (nullable = true)\n",
            " |-- hours: string (nullable = true)\n",
            " |-- user_id: string (nullable = true)\n",
            " |-- review_id: string (nullable = true)\n",
            "\n"
          ]
        }
      ]
    },
    {
      "cell_type": "code",
      "source": [
        "from pyspark.sql.functions import col,explode\n",
        "recomendaciones = recomendaciones.\\\n",
        "          withColumn('app_id',col('app_id').cast('integer')).\\\n",
        "          withColumn('helpful',col('helpful').cast('integer')).\\\n",
        "          withColumn('funny',col('funny').cast('integer')).\\\n",
        "          withColumn('user_id',col('user_id').cast('integer')).\\\n",
        "          withColumn('review_id',col('review_id').cast('integer')).\\\n",
        "          withColumn('hours',col('hours').cast('integer'))\n",
        "recomendaciones.printSchema()"
      ],
      "metadata": {
        "colab": {
          "base_uri": "https://localhost:8080/"
        },
        "id": "6L2Y2uAxp6GE",
        "outputId": "f54bdab1-2846-46ae-a46f-b33ce4d1ae5d"
      },
      "execution_count": null,
      "outputs": [
        {
          "output_type": "stream",
          "name": "stdout",
          "text": [
            "root\n",
            " |-- app_id: integer (nullable = true)\n",
            " |-- helpful: integer (nullable = true)\n",
            " |-- funny: integer (nullable = true)\n",
            " |-- date: string (nullable = true)\n",
            " |-- is_recommended: string (nullable = true)\n",
            " |-- hours: integer (nullable = true)\n",
            " |-- user_id: integer (nullable = true)\n",
            " |-- review_id: integer (nullable = true)\n",
            "\n"
          ]
        }
      ]
    },
    {
      "cell_type": "markdown",
      "source": [
        "##Cambio a entero al dataframe usuarios"
      ],
      "metadata": {
        "id": "YUhNWymxqn-Q"
      }
    },
    {
      "cell_type": "code",
      "source": [
        "usuarios.printSchema()"
      ],
      "metadata": {
        "colab": {
          "base_uri": "https://localhost:8080/"
        },
        "id": "Tc03JKVbqqsP",
        "outputId": "a5586b01-c327-4de9-fefa-b60ffe744254"
      },
      "execution_count": null,
      "outputs": [
        {
          "output_type": "stream",
          "name": "stdout",
          "text": [
            "root\n",
            " |-- user_id: string (nullable = true)\n",
            " |-- products: string (nullable = true)\n",
            " |-- reviews: string (nullable = true)\n",
            "\n"
          ]
        }
      ]
    },
    {
      "cell_type": "code",
      "source": [
        "from pyspark.sql.functions import col,explode\n",
        "usuarios = usuarios.\\\n",
        "          withColumn('user_id',col('user_id').cast('integer')).\\\n",
        "          withColumn('products',col('products').cast('integer')).\\\n",
        "          withColumn('reviews',col('reviews').cast('integer'))\n",
        "usuarios.printSchema()"
      ],
      "metadata": {
        "colab": {
          "base_uri": "https://localhost:8080/"
        },
        "id": "inBzs3Lnq1y4",
        "outputId": "149c9b94-1eed-41ee-f017-59767ed7c726"
      },
      "execution_count": null,
      "outputs": [
        {
          "output_type": "stream",
          "name": "stdout",
          "text": [
            "root\n",
            " |-- user_id: integer (nullable = true)\n",
            " |-- products: integer (nullable = true)\n",
            " |-- reviews: integer (nullable = true)\n",
            "\n"
          ]
        }
      ]
    },
    {
      "cell_type": "markdown",
      "source": [
        "##Eliminar filas con valores nulos"
      ],
      "metadata": {
        "id": "v-Bv_qvYsfKT"
      }
    },
    {
      "cell_type": "code",
      "source": [
        "# Elimina filas con valores nulos\n",
        "juegos_cleaned = juegos.na.drop()\n",
        "\n",
        "# Muestra los primeros registros del DataFrame limpio\n",
        "juegos_cleaned.show()"
      ],
      "metadata": {
        "colab": {
          "base_uri": "https://localhost:8080/"
        },
        "id": "gHNRphk4sml7",
        "outputId": "1dc4669b-afbd-48d2-94da-4934aaaf34ef"
      },
      "execution_count": null,
      "outputs": [
        {
          "output_type": "stream",
          "name": "stdout",
          "text": [
            "+------+--------------------+------------+----+-----+-----+---------------+--------------+------------+-----------+--------------+--------+----------+\n",
            "|app_id|               title|date_release| win|  mac|linux|         rating|positive_ratio|user_reviews|price_final|price_original|discount|steam_deck|\n",
            "+------+--------------------+------------+----+-----+-----+---------------+--------------+------------+-----------+--------------+--------+----------+\n",
            "| 13500|Prince of Persia:...|  2008-11-21|true|false|false|  Very Positive|            84|        2199|       9.99|          9.99|     0.0|      true|\n",
            "| 22364|BRINK: Agents of ...|  2011-08-03|true|false|false|       Positive|            85|          21|       2.99|          2.99|     0.0|      true|\n",
            "|113020|Monaco: What's Yo...|  2013-04-24|true| true| true|  Very Positive|            92|        3722|      14.99|         14.99|     0.0|      true|\n",
            "|226560|  Escape Dead Island|  2014-11-18|true|false|false|          Mixed|            61|         873|      14.99|         14.99|     0.0|      true|\n",
            "|249050|Dungeon of the EN...|  2014-10-27|true| true|false|  Very Positive|            88|        8784|      11.99|         11.99|     0.0|      true|\n",
            "|250180|        METAL SLUG 3|  2015-09-14|true|false|false|  Very Positive|            90|        5579|       7.99|          7.99|     0.0|      true|\n",
            "|253980|             Enclave|  2013-10-04|true| true| true|Mostly Positive|            75|        1608|       4.99|          4.99|     0.0|      true|\n",
            "|271850|Men of War: Assau...|  2014-05-16|true|false|false|          Mixed|            61|         199|       6.99|          6.99|     0.0|      true|\n",
            "|282900|Hyperdimension Ne...|  2015-01-29|true|false|false|  Very Positive|            94|        9686|      14.99|         14.99|     0.0|      true|\n",
            "| 19810|The Sum of All Fears|  2008-10-10|true|false|false|Mostly Positive|            75|          33|       9.99|          9.99|     0.0|      true|\n",
            "| 15270|          Cold Fear™|  2008-05-13|true|false|false|  Very Positive|            85|         800|       9.99|          9.99|     0.0|      true|\n",
            "| 21130|LEGO® Harry Potte...|  2010-06-25|true|false|false|  Very Positive|            85|        5169|      19.99|         19.99|     0.0|      true|\n",
            "| 22130|Hearts of Iron 2 ...|  2009-01-23|true|false|false|  Very Positive|            85|         462|      14.99|         14.99|     0.0|      true|\n",
            "| 29180|               Osmos|  2009-08-18|true| true| true|  Very Positive|            88|         532|       9.99|          9.99|     0.0|      true|\n",
            "| 32750|          Comanche 4|  2009-06-18|true|false|false|  Very Positive|            90|         222|       9.99|          9.99|     0.0|      true|\n",
            "|241620|          Inquisitor|  2013-08-01|true|false|false|Mostly Positive|            70|         390|       9.99|          9.99|     0.0|      true|\n",
            "|408520|                FORM|  2017-06-01|true|false|false|  Very Positive|            91|         934|      14.99|         14.99|     0.0|      true|\n",
            "|244910|            Homesick|  2015-05-28|true|false|false|Mostly Positive|            77|        1139|      14.99|         14.99|     0.0|      true|\n",
            "|245950|Borderlands 2: He...|  2014-02-11|true| true| true|  Very Positive|            84|         294|       0.89|          2.99|    70.0|      true|\n",
            "|250460|  Bridge Constructor|  2013-10-16|true| true| true|Mostly Positive|            77|         716|       2.39|         19.99|    88.0|      true|\n",
            "+------+--------------------+------------+----+-----+-----+---------------+--------------+------------+-----------+--------------+--------+----------+\n",
            "only showing top 20 rows\n",
            "\n"
          ]
        }
      ]
    },
    {
      "cell_type": "code",
      "source": [
        "# Elimina filas con valores nulos\n",
        "recomendaciones_cleaned = recomendaciones.na.drop()\n",
        "\n",
        "# Muestra los primeros registros del DataFrame limpio\n",
        "recomendaciones_cleaned.show()"
      ],
      "metadata": {
        "colab": {
          "base_uri": "https://localhost:8080/"
        },
        "id": "JGtuQ2HNs5RD",
        "outputId": "eb76a9a2-d481-40c0-f576-b7459ed22825"
      },
      "execution_count": null,
      "outputs": [
        {
          "output_type": "stream",
          "name": "stdout",
          "text": [
            "+-------+-------+-----+----------+--------------+-----+-------+---------+\n",
            "| app_id|helpful|funny|      date|is_recommended|hours|user_id|review_id|\n",
            "+-------+-------+-----+----------+--------------+-----+-------+---------+\n",
            "| 975370|      0|    0|2022-12-12|          true|   36|  51580|        0|\n",
            "| 304390|      4|    0|2017-02-17|         false|   11|   2586|        1|\n",
            "|1085660|      2|    0|2019-11-17|          true|  336| 253880|        2|\n",
            "| 703080|      0|    0|2022-09-23|          true|   27| 259432|        3|\n",
            "| 526870|      0|    0|2021-01-10|          true|    7|  23869|        4|\n",
            "| 306130|      0|    0|2021-10-10|          true|    8|  45425|        5|\n",
            "| 238960|      0|    0|2017-11-25|          true|  538|  88282|        6|\n",
            "|    730|      0|    0|2021-11-30|         false|  157|  63209|        7|\n",
            "| 255710|      0|    0|2021-05-21|          true|   18| 354512|        8|\n",
            "| 289070|      0|    0|2020-05-26|          true|  397| 454422|        9|\n",
            "| 431960|      0|    0|2020-10-14|          true|   30| 199725|       10|\n",
            "|1086940|      0|    0|2020-10-07|          true|   50|  85822|       11|\n",
            "|1938090|      0|    0|2022-11-16|          true|   46| 161081|       12|\n",
            "|1286830|      2|    0|2020-07-26|          true|   19| 113279|       13|\n",
            "|1172620|      0|    0|2020-11-04|          true|   89| 122640|       14|\n",
            "| 306130|      0|    0|2021-05-12|          true|   61|  75422|       15|\n",
            "| 635260|      0|    0|2022-01-30|          true|  177|  76583|       16|\n",
            "|1151340|      0|    0|2020-07-01|          true|   86| 124924|       17|\n",
            "| 289070|      0|    0|2020-05-29|          true|  244| 261528|       18|\n",
            "| 392160|      3|    0|2018-12-26|         false|  320| 408750|       19|\n",
            "+-------+-------+-----+----------+--------------+-----+-------+---------+\n",
            "only showing top 20 rows\n",
            "\n"
          ]
        }
      ]
    },
    {
      "cell_type": "code",
      "source": [
        "# Elimina filas con valores nulos\n",
        "usuarios_cleaned = usuarios.na.drop()\n",
        "\n",
        "# Muestra los primeros registros del DataFrame limpio\n",
        "usuarios_cleaned.show()"
      ],
      "metadata": {
        "colab": {
          "base_uri": "https://localhost:8080/"
        },
        "id": "KGvwDINOtANh",
        "outputId": "c3cc43b6-dc99-4885-c5c4-091fa52099e7"
      },
      "execution_count": null,
      "outputs": [
        {
          "output_type": "stream",
          "name": "stdout",
          "text": [
            "+--------+--------+-------+\n",
            "| user_id|products|reviews|\n",
            "+--------+--------+-------+\n",
            "| 7360263|     359|      0|\n",
            "|14020781|     156|      1|\n",
            "| 8762579|     329|      4|\n",
            "| 4820647|     176|      4|\n",
            "| 5167327|      98|      2|\n",
            "| 5664667|     145|      5|\n",
            "| 5889167|     447|      2|\n",
            "| 7281762|    1083|      1|\n",
            "| 7445952|     273|      1|\n",
            "| 7462927|      51|      1|\n",
            "| 7922733|     108|      2|\n",
            "| 9201535|     166|      1|\n",
            "| 9514331|     237|      4|\n",
            "| 9972262|     250|      3|\n",
            "|10184828|     187|      1|\n",
            "|10714376|    1824|      2|\n",
            "|11237958|      12|      1|\n",
            "|11274058|     102|      4|\n",
            "|11300174|     210|     17|\n",
            "|11463309|     318|      5|\n",
            "+--------+--------+-------+\n",
            "only showing top 20 rows\n",
            "\n"
          ]
        }
      ]
    },
    {
      "cell_type": "code",
      "source": [
        "print(\" Dimensiones de los datos\", \"\\n\",\n",
        "      \"Fila juegos \", juegos_cleaned.count(), \" - \", \"Columnas juegos\", len(juegos_cleaned.columns), \"\\n\",\n",
        "      \"Fila recomendaciones   \", recomendaciones_cleaned.count()  , \" - \", \"Columnas recomendaciones  \", len(recomendaciones_cleaned.columns), \"\\n\",\n",
        "      \"Fila usuarios \", usuarios_cleaned.count() , \" - \", \"Columnas usuarios \", len(usuarios_cleaned.columns), \"\\n\" )"
      ],
      "metadata": {
        "colab": {
          "base_uri": "https://localhost:8080/"
        },
        "id": "Hv6NlBk3t9OR",
        "outputId": "e8ca96b0-0cd3-4b78-f0cd-f2fd1bec4f31"
      },
      "execution_count": null,
      "outputs": [
        {
          "output_type": "stream",
          "name": "stdout",
          "text": [
            " Dimensiones de los datos \n",
            " Fila juegos  50872  -  Columnas juegos 13 \n",
            " Fila recomendaciones    41154794  -  Columnas recomendaciones   8 \n",
            " Fila usuarios  14306064  -  Columnas usuarios  3 \n",
            "\n"
          ]
        }
      ]
    },
    {
      "cell_type": "markdown",
      "source": [
        "#3. Analisis Exploratorio"
      ],
      "metadata": {
        "id": "X9GLnDiGu6GR"
      }
    },
    {
      "cell_type": "code",
      "source": [
        "import pandas as pd\n",
        "import seaborn as sns\n",
        "import numpy as np\n",
        "import matplotlib.pyplot as plt"
      ],
      "metadata": {
        "id": "Jhk0Lpetu9Mx"
      },
      "execution_count": null,
      "outputs": []
    },
    {
      "cell_type": "code",
      "source": [
        "# Reducir el tamaño de los DataFrames a 200000 filas cada uno\n",
        "recomendaciones_reduce = recomendaciones_cleaned.limit(200000)\n",
        "usuarios_reduce = usuarios_cleaned.limit(200000)"
      ],
      "metadata": {
        "id": "ov86eeEL2-LV"
      },
      "execution_count": null,
      "outputs": []
    },
    {
      "cell_type": "code",
      "source": [
        "print(\" Dimensiones de los datos\", \"\\n\",\n",
        "      \"Fila juegos \", juegos_cleaned.count(), \" - \", \"Columnas juegos\", len(juegos_cleaned.columns), \"\\n\",\n",
        "      \"Fila recomendaciones   \", recomendaciones_reduce.count()  , \" - \", \"Columnas recomendaciones  \", len(recomendaciones_reduce.columns), \"\\n\",\n",
        "      \"Fila usuarios \", usuarios_reduce.count() , \" - \", \"Columnas usuarios \", len(usuarios_reduce.columns), \"\\n\" )"
      ],
      "metadata": {
        "colab": {
          "base_uri": "https://localhost:8080/"
        },
        "id": "fPsLghzl4eqI",
        "outputId": "76cf06e2-45b5-4789-e9ee-303e2727f28c"
      },
      "execution_count": null,
      "outputs": [
        {
          "output_type": "stream",
          "name": "stdout",
          "text": [
            " Dimensiones de los datos \n",
            " Fila juegos  50872  -  Columnas juegos 13 \n",
            " Fila recomendaciones    200000  -  Columnas recomendaciones   8 \n",
            " Fila usuarios  200000  -  Columnas usuarios  3 \n",
            "\n"
          ]
        }
      ]
    },
    {
      "cell_type": "code",
      "source": [
        "usuario_pandas = usuarios_reduce.toPandas()\n",
        "entrenamiento = juegos_cleaned.toPandas()\n",
        "rating = recomendaciones_reduce.toPandas()"
      ],
      "metadata": {
        "id": "v1gQ2841yY6Q"
      },
      "execution_count": null,
      "outputs": []
    },
    {
      "cell_type": "markdown",
      "source": [
        "##Recopilar los datos de juegos y sus etiquetas correspondientes, identificar los juegos con la mayor cantidad de reseñas y organizar en orden descendente según su ratio positivo.\n"
      ],
      "metadata": {
        "id": "lcIyXHTq60VQ"
      }
    },
    {
      "cell_type": "code",
      "source": [
        "metadata = spark.read.json(\"/content/drive/MyDrive/Datos Masivos/Proyectos/Proyecto_final/Datos/Descomprimido/games_metadata.json\")"
      ],
      "metadata": {
        "id": "yXGKcaNh8yGD"
      },
      "execution_count": null,
      "outputs": []
    },
    {
      "cell_type": "code",
      "source": [
        "from pyspark.sql.functions import col\n",
        "\n",
        "# Realizar la unión de los dos DataFrames en PySpark\n",
        "gamesdf = juegos_cleaned.join(metadata, on='app_id')\n",
        "\n",
        "# Estas son las columnas que te interesan\n",
        "relevant_cols = ['app_id', 'title', 'positive_ratio', 'user_reviews', 'tags']\n",
        "gamesdf = gamesdf.select(*relevant_cols)\n",
        "\n",
        "# Ordenar por user_reviews para mantener los mejores 100 juegos revisados\n",
        "gamesdf = gamesdf.orderBy('user_reviews', ascending=False)\n",
        "gamesdf = gamesdf.limit(100)\n",
        "\n",
        "# Calcular el promedio de user_reviews\n",
        "review_avg = gamesdf.agg({'user_reviews': 'mean'}).collect()[0][0]\n",
        "\n",
        "# Mostrar el DataFrame resultante\n",
        "gamesdf.show()"
      ],
      "metadata": {
        "colab": {
          "base_uri": "https://localhost:8080/"
        },
        "id": "UWJddhHt9p1P",
        "outputId": "db96b29e-e49d-4f72-cb80-9388f0e2a8c2"
      },
      "execution_count": null,
      "outputs": [
        {
          "output_type": "stream",
          "name": "stdout",
          "text": [
            "+-------+--------------------+--------------+------------+--------------------+\n",
            "| app_id|               title|positive_ratio|user_reviews|                tags|\n",
            "+-------+--------------------+--------------+------------+--------------------+\n",
            "|    730|Counter-Strike: G...|            88|     7494460|                  []|\n",
            "| 578080| PUBG: BATTLEGROUNDS|            57|     2217226|                  []|\n",
            "|    570|              Dota 2|            82|     2045628|                  []|\n",
            "| 271590|  Grand Theft Auto V|            86|     1484122|                  []|\n",
            "| 359550|Tom Clancy's Rain...|            86|      993312|                  []|\n",
            "|    440|     Team Fortress 2|            93|      985819|                  []|\n",
            "| 105600|            Terraria|            97|      943413|                  []|\n",
            "|   4000|         Garry's Mod|            96|      853733|                  []|\n",
            "| 252490|                Rust|            87|      786668|                  []|\n",
            "|1172470|       Apex Legends™|            80|      713182|                  []|\n",
            "| 292030|The Witcher® 3: W...|            96|      668455|                  []|\n",
            "| 431960|    Wallpaper Engine|            98|      637341|                  []|\n",
            "| 945360|            Among Us|            92|      587821|                  []|\n",
            "|    550|       Left 4 Dead 2|            97|      574470|                  []|\n",
            "|1085660|           Destiny 2|            81|      562723|                  []|\n",
            "|1091500|      Cyberpunk 2077|            80|      557051|                  []|\n",
            "| 230410|            Warframe|            86|      542198|                  []|\n",
            "|1245620|          ELDEN RING|            92|      528702|                  []|\n",
            "| 304930|            Unturned|            91|      515016|[Free to Play, Su...|\n",
            "| 413150|      Stardew Valley|            98|      505882|                  []|\n",
            "+-------+--------------------+--------------+------------+--------------------+\n",
            "only showing top 20 rows\n",
            "\n"
          ]
        }
      ]
    },
    {
      "cell_type": "code",
      "source": [
        "from pyspark.sql.functions import explode\n",
        "\n",
        "# Obtener la columna de tags y explotarla para obtener una fila por cada tag\n",
        "tags_df = gamesdf.select('tags').withColumn('tag', explode('tags'))\n",
        "\n",
        "# Contar la frecuencia de cada tag\n",
        "tag_counts = tags_df.groupBy('tag').count()\n",
        "\n",
        "# Ordenar los resultados en orden descendente\n",
        "tag_counts = tag_counts.orderBy('count', ascending=False)\n",
        "\n",
        "# Mostrar información sobre la serie\n",
        "print(\"Series Size: \", tag_counts.count())\n",
        "print(\"Average Common Tags: \", tag_counts.agg({'count': 'mean'}).collect()[0][0])\n",
        "\n",
        "# Crear un gráfico para visualizar los resultados\n",
        "tag_slice = tag_counts.limit(10).toPandas()\n",
        "labels = tag_slice['tag'].tolist()\n",
        "\n",
        "fig, ax = plt.subplots()\n",
        "plt.title('Etiquetas de Juegos Más Revisadas')\n",
        "pchart = ax.pie(tag_slice['count'], labels=labels, autopct='%1.1f%%')\n",
        "plt.show()"
      ],
      "metadata": {
        "colab": {
          "base_uri": "https://localhost:8080/",
          "height": 464
        },
        "id": "DsxBI3gs_-6h",
        "outputId": "9ff136bd-9ab2-4e6d-c177-49403652c01e"
      },
      "execution_count": null,
      "outputs": [
        {
          "output_type": "stream",
          "name": "stdout",
          "text": [
            "Series Size:  110\n",
            "Average Common Tags:  2.1818181818181817\n"
          ]
        },
        {
          "output_type": "display_data",
          "data": {
            "text/plain": [
              "<Figure size 640x480 with 1 Axes>"
            ],
            "image/png": "[encoded data removed]"
          },
          "metadata": {}
        }
      ]
    },
    {
      "cell_type": "code",
      "source": [
        "from pyspark.sql.functions import desc\n",
        "\n",
        "# Ordenar el DataFrame por 'positive_ratio' en orden descendente\n",
        "gamesdf = gamesdf.orderBy(desc('positive_ratio'))\n",
        "\n",
        "# Seleccionar los 10 juegos más positivamente revisados\n",
        "positivedf = gamesdf.limit(10)\n",
        "\n",
        "# Contar la frecuencia de cada título\n",
        "title_counts = positivedf.groupBy('title').agg({'user_reviews': 'sum'})\n",
        "\n",
        "# Ordenar los resultados en orden descendente\n",
        "title_counts = title_counts.orderBy(desc('sum(user_reviews)'))\n",
        "\n",
        "# Mostrar información sobre la serie\n",
        "print(\"Series Size: \", title_counts.count())\n",
        "print(\"Average Common Titles: \", title_counts.agg({'sum(user_reviews)': 'mean'}).collect()[0][0])\n",
        "\n",
        "# Crear un gráfico para visualizar los resultados\n",
        "title_slice = title_counts.limit(10).toPandas()\n",
        "labels = title_slice['title'].tolist()\n",
        "\n",
        "fig, ax = plt.subplots()\n",
        "plt.title('Títulos de Juegos Más Positivamente Revisados')\n",
        "pchart = ax.pie(title_slice['sum(user_reviews)'], labels=labels, autopct='%1.1f%%')\n",
        "plt.show()"
      ],
      "metadata": {
        "colab": {
          "base_uri": "https://localhost:8080/",
          "height": 464
        },
        "id": "w9ngl8lcCTey",
        "outputId": "8fb2a3d4-adaf-4f11-f868-e8794d5f795f"
      },
      "execution_count": null,
      "outputs": [
        {
          "output_type": "stream",
          "name": "stdout",
          "text": [
            "Series Size:  10\n",
            "Average Common Titles:  394130.5\n"
          ]
        },
        {
          "output_type": "display_data",
          "data": {
            "text/plain": [
              "<Figure size 640x480 with 1 Axes>"
            ],
            "image/png": "[encoded data removed]"
          },
          "metadata": {}
        }
      ]
    },
    {
      "cell_type": "code",
      "source": [
        "from pyspark.sql.functions import sum\n",
        "\n",
        "# Realizar la unión de los DataFrames usando la columna \"app_id\"\n",
        "merged_df = juegos_cleaned.join(recomendaciones_reduce, on='app_id')\n",
        "\n",
        "# Sumar las horas jugadas por cada app_id\n",
        "sum_hours_df = merged_df.groupBy(\"app_id\", \"title\").agg(sum(\"hours\").alias(\"total_hours\"))"
      ],
      "metadata": {
        "id": "hWNRkW5EPlKG"
      },
      "execution_count": null,
      "outputs": []
    },
    {
      "cell_type": "code",
      "source": [
        "print(\" Dimensiones de los datos\", \"\\n\",\n",
        "      \"Fila recomendaciones \", merged_df.count(), \" - \", \"Columnas recomendaciones\", len(merged_df.columns))"
      ],
      "metadata": {
        "colab": {
          "base_uri": "https://localhost:8080/"
        },
        "id": "OoUkVz8rJB1T",
        "outputId": "37c1be70-83d8-4a0d-d1d0-036870f90056"
      },
      "execution_count": null,
      "outputs": [
        {
          "output_type": "stream",
          "name": "stdout",
          "text": [
            " Dimensiones de los datos \n",
            " Fila recomendaciones  200000  -  Columnas recomendaciones 20\n"
          ]
        }
      ]
    },
    {
      "cell_type": "code",
      "source": [
        "sum_hours_df.show()"
      ],
      "metadata": {
        "id": "h1k_QQ_DD0gr",
        "colab": {
          "base_uri": "https://localhost:8080/"
        },
        "outputId": "29cc0973-6b1d-40d2-a8b7-947be5fc163d"
      },
      "execution_count": null,
      "outputs": [
        {
          "output_type": "stream",
          "name": "stdout",
          "text": [
            "+-------+--------------------+-----------+\n",
            "| app_id|               title|total_hours|\n",
            "+-------+--------------------+-----------+\n",
            "| 975370|      Dwarf Fortress|      39529|\n",
            "| 304390|          FOR HONOR™|     375559|\n",
            "|1085660|           Destiny 2|     383769|\n",
            "| 703080|          Planet Zoo|      99713|\n",
            "| 526870|        Satisfactory|     400595|\n",
            "| 306130|The Elder Scrolls...|     583084|\n",
            "| 238960|       Path of Exile|    1160204|\n",
            "|    730|Counter-Strike: G...|    2325331|\n",
            "| 255710|    Cities: Skylines|     271443|\n",
            "| 289070|Sid Meier’s Civil...|     605952|\n",
            "| 431960|    Wallpaper Engine|     475610|\n",
            "|1086940|     Baldur's Gate 3|     109263|\n",
            "|1938090|       Call of Duty®|     480229|\n",
            "|1286830|STAR WARS™: The O...|     197683|\n",
            "|1172620|Sea of Thieves 20...|     464919|\n",
            "| 635260|CarX Drift Racing...|      45163|\n",
            "|1151340|          Fallout 76|     235533|\n",
            "| 392160|     X4: Foundations|      71815|\n",
            "|    570|              Dota 2|     897305|\n",
            "| 534380|Dying Light 2 Sta...|     118955|\n",
            "+-------+--------------------+-----------+\n",
            "only showing top 20 rows\n",
            "\n"
          ]
        }
      ]
    },
    {
      "cell_type": "code",
      "source": [
        "# Obtener los datos del DataFrame como listas de Python\n",
        "top_titles = sum_hours_df.orderBy(\"total_hours\", ascending=False).limit(10).select(\"title\").rdd.flatMap(lambda x: x).collect()\n",
        "top_total_hours = sum_hours_df.orderBy(\"total_hours\", ascending=False).limit(10).select(\"total_hours\").rdd.flatMap(lambda x: x).collect()\n",
        "\n",
        "# Crear el gráfico de barras\n",
        "plt.figure(figsize=(10, 6))\n",
        "plt.bar(top_titles, top_total_hours, color='skyblue')\n",
        "plt.xlabel('Juegos')\n",
        "plt.ylabel('Total de Horas Jugadas')\n",
        "plt.title('Top 10 Juegos por Total de Horas Jugadas')\n",
        "plt.xticks(rotation=45, ha='right')  # Rotar las etiquetas del eje x para mayor legibilidad\n",
        "plt.tight_layout()\n",
        "\n",
        "# Mostrar el gráfico\n",
        "plt.show()"
      ],
      "metadata": {
        "colab": {
          "base_uri": "https://localhost:8080/",
          "height": 607
        },
        "id": "wD27N_WJRu6G",
        "outputId": "4932a413-3793-4fd0-8eed-6f59596ea226"
      },
      "execution_count": null,
      "outputs": [
        {
          "output_type": "display_data",
          "data": {
            "text/plain": [
              "<Figure size 1000x600 with 1 Axes>"
            ],
            "image/png": "[encoded data removed]"
          },
          "metadata": {}
        }
      ]
    },
    {
      "cell_type": "markdown",
      "source": [
        "#4. Procesamiento"
      ],
      "metadata": {
        "id": "e41X8yx3LsME"
      }
    },
    {
      "cell_type": "code",
      "source": [
        "from pyspark.ml.evaluation import RegressionEvaluator\n",
        "from pyspark.ml.recommendation import ALS\n",
        "from pyspark.ml.tuning import ParamGridBuilder, CrossValidator"
      ],
      "metadata": {
        "id": "Yll3Z3YgN7Bu"
      },
      "execution_count": null,
      "outputs": []
    },
    {
      "cell_type": "code",
      "source": [
        "recomendaciones_reduce.printSchema()"
      ],
      "metadata": {
        "colab": {
          "base_uri": "https://localhost:8080/"
        },
        "id": "jhGRo722OCoD",
        "outputId": "c0bfa6f0-9879-4830-fd7a-355c5ab4d2cd"
      },
      "execution_count": null,
      "outputs": [
        {
          "output_type": "stream",
          "name": "stdout",
          "text": [
            "root\n",
            " |-- app_id: integer (nullable = true)\n",
            " |-- helpful: integer (nullable = true)\n",
            " |-- funny: integer (nullable = true)\n",
            " |-- date: string (nullable = true)\n",
            " |-- is_recommended: string (nullable = true)\n",
            " |-- hours: integer (nullable = true)\n",
            " |-- user_id: integer (nullable = true)\n",
            " |-- review_id: integer (nullable = true)\n",
            "\n"
          ]
        }
      ]
    },
    {
      "cell_type": "code",
      "source": [
        "ratings_union = recomendaciones_reduce.join(juegos_cleaned, on='app_id')\n",
        "# Mostrar algunas filas del nuevo DataFrame\n",
        "ratings_union.show()"
      ],
      "metadata": {
        "colab": {
          "base_uri": "https://localhost:8080/"
        },
        "id": "bTZ-1rOcFI_j",
        "outputId": "1536dff8-1267-4456-8762-4911c447c1dd"
      },
      "execution_count": null,
      "outputs": [
        {
          "output_type": "stream",
          "name": "stdout",
          "text": [
            "+-------+-------+-----+----------+--------------+-----+-------+---------+--------------------+------------+----+-----+-----+--------------------+--------------+------------+-----------+--------------+--------+----------+\n",
            "| app_id|helpful|funny|      date|is_recommended|hours|user_id|review_id|               title|date_release| win|  mac|linux|              rating|positive_ratio|user_reviews|price_final|price_original|discount|steam_deck|\n",
            "+-------+-------+-----+----------+--------------+-----+-------+---------+--------------------+------------+----+-----+-----+--------------------+--------------+------------+-----------+--------------+--------+----------+\n",
            "| 975370|      0|    0|2022-12-12|          true|   36|  51580|        0|      Dwarf Fortress|  2022-12-06|true|false|false|Overwhelmingly Po...|            95|       19665|       30.0|           0.0|     0.0|      true|\n",
            "| 304390|      4|    0|2017-02-17|         false|   11|   2586|        1|          FOR HONOR™|  2017-02-13|true|false|false|               Mixed|            69|       82277|       15.0|           0.0|     0.0|      true|\n",
            "|1085660|      2|    0|2019-11-17|          true|  336| 253880|        2|           Destiny 2|  2019-10-01|true|false|false|       Very Positive|            81|      562723|        0.0|           0.0|     0.0|      true|\n",
            "| 703080|      0|    0|2022-09-23|          true|   27| 259432|        3|          Planet Zoo|  2019-11-05|true|false|false|       Very Positive|            90|       60113|       45.0|           0.0|     0.0|      true|\n",
            "| 526870|      0|    0|2021-01-10|          true|    7|  23869|        4|        Satisfactory|  2020-06-08|true|false|false|Overwhelmingly Po...|            97|      119866|       30.0|           0.0|     0.0|      true|\n",
            "| 306130|      0|    0|2021-10-10|          true|    8|  45425|        5|The Elder Scrolls...|  2017-05-22|true| true|false|       Very Positive|            83|      114079|       20.0|           0.0|     0.0|      true|\n",
            "| 238960|      0|    0|2017-11-25|          true|  538|  88282|        6|       Path of Exile|  2013-10-23|true| true|false|       Very Positive|            88|      206939|        0.0|           0.0|     0.0|      true|\n",
            "|    730|      0|    0|2021-11-30|         false|  157|  63209|        7|Counter-Strike: G...|  2012-08-21|true| true| true|       Very Positive|            88|     7494460|       15.0|           0.0|     0.0|      true|\n",
            "| 255710|      0|    0|2021-05-21|          true|   18| 354512|        8|    Cities: Skylines|  2015-03-10|true| true| true|       Very Positive|            93|      178458|       30.0|           0.0|     0.0|      true|\n",
            "| 289070|      0|    0|2020-05-26|          true|  397| 454422|        9|Sid Meier’s Civil...|  2016-10-20|true| true| true|       Very Positive|            85|      201288|        6.0|           0.0|     0.0|      true|\n",
            "| 431960|      0|    0|2020-10-14|          true|   30| 199725|       10|    Wallpaper Engine|  2018-11-01|true|false|false|Overwhelmingly Po...|            98|      637341|        4.0|           0.0|     0.0|      true|\n",
            "|1086940|      0|    0|2020-10-07|          true|   50|  85822|       11|     Baldur's Gate 3|  2023-08-03|true| true|false|Overwhelmingly Po...|            95|      269840|       60.0|           0.0|     0.0|      true|\n",
            "|1938090|      0|    0|2022-11-16|          true|   46| 161081|       12|       Call of Duty®|  2022-10-27|true|false|false|               Mixed|            59|      429206|        0.0|           0.0|     0.0|      true|\n",
            "|1286830|      2|    0|2020-07-26|          true|   19| 113279|       13|STAR WARS™: The O...|  2020-07-21|true|false|false|       Very Positive|            89|       54766|        0.0|           0.0|     0.0|      true|\n",
            "|1172620|      0|    0|2020-11-04|          true|   89| 122640|       14|Sea of Thieves 20...|  2020-06-03|true|false|false|       Very Positive|            90|      253844|       40.0|           0.0|     0.0|      true|\n",
            "| 306130|      0|    0|2021-05-12|          true|   61|  75422|       15|The Elder Scrolls...|  2017-05-22|true| true|false|       Very Positive|            83|      114079|       20.0|           0.0|     0.0|      true|\n",
            "| 635260|      0|    0|2022-01-30|          true|  177|  76583|       16|CarX Drift Racing...|  2017-11-17|true|false|false|Overwhelmingly Po...|            95|       62194|       15.0|           0.0|     0.0|      true|\n",
            "|1151340|      0|    0|2020-07-01|          true|   86| 124924|       17|          Fallout 76|  2020-04-14|true|false|false|     Mostly Positive|            75|       46469|       40.0|           0.0|     0.0|      true|\n",
            "| 289070|      0|    0|2020-05-29|          true|  244| 261528|       18|Sid Meier’s Civil...|  2016-10-20|true| true| true|       Very Positive|            85|      201288|        6.0|           0.0|     0.0|      true|\n",
            "| 392160|      3|    0|2018-12-26|         false|  320| 408750|       19|     X4: Foundations|  2018-11-30|true|false| true|     Mostly Positive|            76|       14620|       50.0|           0.0|     0.0|      true|\n",
            "+-------+-------+-----+----------+--------------+-----+-------+---------+--------------------+------------+----+-----+-----+--------------------+--------------+------------+-----------+--------------+--------+----------+\n",
            "only showing top 20 rows\n",
            "\n"
          ]
        }
      ]
    },
    {
      "cell_type": "code",
      "source": [
        "num_filas = ratings_union.count()\n",
        "num_columnas = len(ratings_union.columns)\n",
        "\n",
        "print(f\"Número de filas: {num_filas}\")\n",
        "print(f\"Número de columnas: {num_columnas}\")"
      ],
      "metadata": {
        "colab": {
          "base_uri": "https://localhost:8080/"
        },
        "id": "TN5XzU8CG8BT",
        "outputId": "9b373f2b-12dc-4abc-d21e-193e7b2ba7e4"
      },
      "execution_count": null,
      "outputs": [
        {
          "output_type": "stream",
          "name": "stdout",
          "text": [
            "Número de filas: 200000\n",
            "Número de columnas: 20\n"
          ]
        }
      ]
    },
    {
      "cell_type": "code",
      "source": [
        "ratings_cleaned = ratings_union.select(\"user_id\",\"app_id\",\"title\",\"hours\",\"is_recommended\")\n",
        "\n",
        "# Mostrar el esquema del nuevo DataFrame\n",
        "ratings_cleaned.printSchema()\n",
        "\n",
        "# Mostrar algunas filas del nuevo DataFrame\n",
        "ratings_cleaned.show()"
      ],
      "metadata": {
        "colab": {
          "base_uri": "https://localhost:8080/"
        },
        "id": "QGcPTT2-FBTz",
        "outputId": "b30306c8-d91c-49d3-c735-edfcb4831668"
      },
      "execution_count": null,
      "outputs": [
        {
          "output_type": "stream",
          "name": "stdout",
          "text": [
            "root\n",
            " |-- user_id: integer (nullable = true)\n",
            " |-- app_id: integer (nullable = true)\n",
            " |-- title: string (nullable = true)\n",
            " |-- hours: integer (nullable = true)\n",
            " |-- is_recommended: string (nullable = true)\n",
            "\n",
            "+-------+-------+--------------------+-----+--------------+\n",
            "|user_id| app_id|               title|hours|is_recommended|\n",
            "+-------+-------+--------------------+-----+--------------+\n",
            "|  51580| 975370|      Dwarf Fortress|   36|          true|\n",
            "|   2586| 304390|          FOR HONOR™|   11|         false|\n",
            "| 253880|1085660|           Destiny 2|  336|          true|\n",
            "| 259432| 703080|          Planet Zoo|   27|          true|\n",
            "|  23869| 526870|        Satisfactory|    7|          true|\n",
            "|  45425| 306130|The Elder Scrolls...|    8|          true|\n",
            "|  88282| 238960|       Path of Exile|  538|          true|\n",
            "|  63209|    730|Counter-Strike: G...|  157|         false|\n",
            "| 354512| 255710|    Cities: Skylines|   18|          true|\n",
            "| 454422| 289070|Sid Meier’s Civil...|  397|          true|\n",
            "| 199725| 431960|    Wallpaper Engine|   30|          true|\n",
            "|  85822|1086940|     Baldur's Gate 3|   50|          true|\n",
            "| 161081|1938090|       Call of Duty®|   46|          true|\n",
            "| 113279|1286830|STAR WARS™: The O...|   19|          true|\n",
            "| 122640|1172620|Sea of Thieves 20...|   89|          true|\n",
            "|  75422| 306130|The Elder Scrolls...|   61|          true|\n",
            "|  76583| 635260|CarX Drift Racing...|  177|          true|\n",
            "| 124924|1151340|          Fallout 76|   86|          true|\n",
            "| 261528| 289070|Sid Meier’s Civil...|  244|          true|\n",
            "| 408750| 392160|     X4: Foundations|  320|         false|\n",
            "+-------+-------+--------------------+-----+--------------+\n",
            "only showing top 20 rows\n",
            "\n"
          ]
        }
      ]
    },
    {
      "cell_type": "markdown",
      "source": [
        "##Se ha agregado una nueva columna denominada \"rating\" al conjunto de datos, que evalúa la cantidad de horas dedicadas a un juego y si el usuario lo recomendó. Esta columna clasifica los juegos en una escala de 1 a 5, asignando calificaciones más altas a aquellos con mayores horas jugadas y recomendaciones positivas."
      ],
      "metadata": {
        "id": "NKqD_ArXUNRS"
      }
    },
    {
      "cell_type": "code",
      "source": [
        "from pyspark.sql import SparkSession\n",
        "from pyspark.sql.functions import when\n",
        "\n",
        "# Definir las condiciones y asignar un rating en consecuencia\n",
        "ratings_cleaned = ratings_cleaned.withColumn(\n",
        "    \"rating\",\n",
        "    when((ratings_cleaned.hours >= 0) & (ratings_cleaned.hours <= 499) & (ratings_cleaned.is_recommended == \"true\"), 4)\n",
        "    .when((ratings_cleaned.hours >= 500) & (ratings_cleaned.hours <= 999) & (ratings_cleaned.is_recommended == \"true\"), 5)\n",
        "    .when((ratings_cleaned.hours >= 0) & (ratings_cleaned.hours <= 299) & (ratings_cleaned.is_recommended == \"false\"), 1)\n",
        "    .when((ratings_cleaned.hours >= 300) & (ratings_cleaned.hours <= 599) & (ratings_cleaned.is_recommended == \"false\"), 2)\n",
        "    .when((ratings_cleaned.hours >= 600) & (ratings_cleaned.hours <= 999) & (ratings_cleaned.is_recommended == \"false\"), 3)\n",
        "    .otherwise(0)  # Manejar cualquier otro caso, si es necesario\n",
        ")\n",
        "\n",
        "# Muestra el DataFrame resultante con la nueva columna \"rating\"\n",
        "ratings_cleaned.show()"
      ],
      "metadata": {
        "colab": {
          "base_uri": "https://localhost:8080/"
        },
        "id": "Mo8k2r12WWpC",
        "outputId": "d4d1a3f7-8abc-40d9-e43b-8f5163f7235c"
      },
      "execution_count": null,
      "outputs": [
        {
          "output_type": "stream",
          "name": "stdout",
          "text": [
            "+-------+-------+--------------------+-----+--------------+------+\n",
            "|user_id| app_id|               title|hours|is_recommended|rating|\n",
            "+-------+-------+--------------------+-----+--------------+------+\n",
            "|  51580| 975370|      Dwarf Fortress|   36|          true|     4|\n",
            "|   2586| 304390|          FOR HONOR™|   11|         false|     1|\n",
            "| 253880|1085660|           Destiny 2|  336|          true|     4|\n",
            "| 259432| 703080|          Planet Zoo|   27|          true|     4|\n",
            "|  23869| 526870|        Satisfactory|    7|          true|     4|\n",
            "|  45425| 306130|The Elder Scrolls...|    8|          true|     4|\n",
            "|  88282| 238960|       Path of Exile|  538|          true|     5|\n",
            "|  63209|    730|Counter-Strike: G...|  157|         false|     1|\n",
            "| 354512| 255710|    Cities: Skylines|   18|          true|     4|\n",
            "| 454422| 289070|Sid Meier’s Civil...|  397|          true|     4|\n",
            "| 199725| 431960|    Wallpaper Engine|   30|          true|     4|\n",
            "|  85822|1086940|     Baldur's Gate 3|   50|          true|     4|\n",
            "| 161081|1938090|       Call of Duty®|   46|          true|     4|\n",
            "| 113279|1286830|STAR WARS™: The O...|   19|          true|     4|\n",
            "| 122640|1172620|Sea of Thieves 20...|   89|          true|     4|\n",
            "|  75422| 306130|The Elder Scrolls...|   61|          true|     4|\n",
            "|  76583| 635260|CarX Drift Racing...|  177|          true|     4|\n",
            "| 124924|1151340|          Fallout 76|   86|          true|     4|\n",
            "| 261528| 289070|Sid Meier’s Civil...|  244|          true|     4|\n",
            "| 408750| 392160|     X4: Foundations|  320|         false|     2|\n",
            "+-------+-------+--------------------+-----+--------------+------+\n",
            "only showing top 20 rows\n",
            "\n"
          ]
        }
      ]
    },
    {
      "cell_type": "markdown",
      "source": [
        "##Dividir el DataFrame ratings_cleaned en tres conjuntos de datos: entrenamiento (train_data), prueba (test_data) y validación (validation)."
      ],
      "metadata": {
        "id": "OMaqIEsAZk7m"
      }
    },
    {
      "cell_type": "code",
      "source": [
        "train_data, test_data, validation = ratings_cleaned.randomSplit([0.7, 0.2, 0.1], seed=42)\n",
        "\n",
        "#train_data.write.option(\"header\",True).csv('/content/drive/MyDrive/Datos Masivos/Proyectos/Proyecto_final/ratings/rating_train-csv')\n",
        "#test_data.write.option(\"header\",True).csv('/content/drive/MyDrive/Datos Masivos/Proyectos/Proyecto_final/ratings/rating_test-csv')\n",
        "#validation.write.option(\"header\",True).csv('/content/drive/MyDrive/Datos Masivos/Proyectos/Proyecto_final/ratings/rating_validation-csv')"
      ],
      "metadata": {
        "id": "RumpXwTUVSjX"
      },
      "execution_count": null,
      "outputs": []
    },
    {
      "cell_type": "code",
      "source": [
        "print(\"Tamaño de dato de entrenamiento: \", train_data.count())\n",
        "print(\"Tamaño de dato de prueba: \", test_data.count())\n",
        "print(\"Tamaño de dato de validacion: \", validation.count())"
      ],
      "metadata": {
        "colab": {
          "base_uri": "https://localhost:8080/"
        },
        "id": "O9-H_IQDt4wc",
        "outputId": "40ea9105-890d-4e55-cb13-2971fbd0c368"
      },
      "execution_count": null,
      "outputs": [
        {
          "output_type": "stream",
          "name": "stdout",
          "text": [
            "Tamaño de dato de entrenamiento:  139838\n",
            "Tamaño de dato de prueba:  39960\n",
            "Tamaño de dato de validacion:  20202\n"
          ]
        }
      ]
    },
    {
      "cell_type": "code",
      "source": [
        "als = ALS(userCol=\"user_id\", itemCol=\"app_id\", ratingCol=\"rating\",\n",
        "          nonnegative=True, implicitPrefs=False, coldStartStrategy=\"drop\")\n",
        "type(als)"
      ],
      "metadata": {
        "colab": {
          "base_uri": "https://localhost:8080/"
        },
        "id": "X5wU3rNiZ50e",
        "outputId": "fc2b04d8-de86-44bf-b020-c42c52bcad66"
      },
      "execution_count": null,
      "outputs": [
        {
          "output_type": "execute_result",
          "data": {
            "text/plain": [
              "pyspark.ml.recommendation.ALS"
            ]
          },
          "metadata": {},
          "execution_count": 38
        }
      ]
    },
    {
      "cell_type": "markdown",
      "source": [
        "##Se definen combinaciones de parámetros (rank y regParam) para evaluar modelos ALS, usando métrica RMSE."
      ],
      "metadata": {
        "id": "yCRmq8y7e8vH"
      }
    },
    {
      "cell_type": "code",
      "source": [
        "param_grid = ParamGridBuilder() \\\n",
        "              .addGrid(als.rank,[1]) \\\n",
        "              .addGrid(als.regParam,[0.3]) \\\n",
        "              .build()\n",
        "\n",
        "evaluator = RegressionEvaluator(metricName='rmse', labelCol='rating', predictionCol='prediction')\n",
        "print(\"Numero de modelos a evaluar\", len(param_grid))"
      ],
      "metadata": {
        "colab": {
          "base_uri": "https://localhost:8080/"
        },
        "id": "0G5M85PweASE",
        "outputId": "f6588c92-ce26-4f01-9bfe-149855251835"
      },
      "execution_count": null,
      "outputs": [
        {
          "output_type": "stream",
          "name": "stdout",
          "text": [
            "Numero de modelos a evaluar 1\n"
          ]
        }
      ]
    },
    {
      "cell_type": "code",
      "source": [
        "cv = CrossValidator(estimator = als, estimatorParamMaps=param_grid, evaluator=evaluator, numFolds=5)\n",
        "print(cv)"
      ],
      "metadata": {
        "colab": {
          "base_uri": "https://localhost:8080/"
        },
        "id": "Yn2Wq9Ytk-kC",
        "outputId": "47f66f1a-5762-4293-ed31-41d11d054ce3"
      },
      "execution_count": null,
      "outputs": [
        {
          "output_type": "stream",
          "name": "stdout",
          "text": [
            "CrossValidator_eda4f03fb204\n"
          ]
        }
      ]
    },
    {
      "cell_type": "markdown",
      "source": [
        "#5. Entrenamiento"
      ],
      "metadata": {
        "id": "f1syQTyNlPLB"
      }
    },
    {
      "cell_type": "code",
      "source": [
        "model = cv.fit(train_data)\n",
        "best_model = model.bestModel"
      ],
      "metadata": {
        "id": "yGDiRwx0lSZB"
      },
      "execution_count": null,
      "outputs": []
    },
    {
      "cell_type": "code",
      "source": [
        "from pyspark.ml.tuning import CrossValidatorModel\n",
        "#Guardamos el modelo para un uso en futuro\n",
        "#model.write().overwrite().save('/content/drive/MyDrive/Datos Masivos/Proyectos/Proyecto_final/modelo')\n",
        "#model = CrossValidatorModel.load(path='/content/drive/MyDrive/Datos Masivos/Proyectos/Proyecto_final/modelo')\n",
        "#best_model = model.bestModel"
      ],
      "metadata": {
        "id": "VnfyMMRSTn0g"
      },
      "execution_count": null,
      "outputs": []
    },
    {
      "cell_type": "code",
      "source": [
        "print(\"Mejor modelo 5\")\n",
        "print(\"Rank:\", best_model._java_obj.parent().getRank())\n",
        "print(\"MaxIter:\", best_model._java_obj.parent().getMaxIter())\n",
        "print(\"RegParam:\", best_model._java_obj.parent().getRegParam())\n",
        "\n",
        "test_predicciones = best_model.transform(test_data)\n",
        "\n",
        "RMSE = evaluator.evaluate(test_predicciones)\n",
        "print(\"RMSE: \",RMSE)"
      ],
      "metadata": {
        "colab": {
          "base_uri": "https://localhost:8080/"
        },
        "id": "eQm7JREvyhT1",
        "outputId": "b287ccdf-80aa-4c92-9b9e-2d97ecd24886"
      },
      "execution_count": null,
      "outputs": [
        {
          "output_type": "stream",
          "name": "stdout",
          "text": [
            "Mejor modelo 5\n",
            "Rank: 1\n",
            "MaxIter: 10\n",
            "RegParam: 0.3\n",
            "RMSE:  1.4277035596730039\n"
          ]
        }
      ]
    },
    {
      "cell_type": "markdown",
      "source": [
        "**Mejor modelo 1:**\n",
        "Rank: 7\n",
        "MaxIter: 10\n",
        "RegParam: 0.6\n",
        "RMSE:  2.5076880277785705\n",
        "\n",
        "**Mejor modelo 2:**\n",
        "Rank: 6\n",
        "MaxIter: 10\n",
        "RegParam: 0.3\n",
        "RMSE:  2.4081241623658416\n",
        "\n",
        "**Mejor modelo 3:**\n",
        "Rank: 4\n",
        "MaxIter: 10\n",
        "RegParam: 0.3\n",
        "RMSE:  2.254908497737335\n",
        "\n",
        "**Mejor modelo 4:**\n",
        "Rank: 5\n",
        "MaxIter: 10\n",
        "RegParam: 0.1\n",
        "RMSE:  2.050853303677055\n",
        "\n",
        "**Mejor modelo 5:**\n",
        "Rank: 1\n",
        "MaxIter: 10\n",
        "RegParam: 0.3\n",
        "RMSE:  1.4277035596730039"
      ],
      "metadata": {
        "id": "EOKP-ZAGaOdr"
      }
    },
    {
      "cell_type": "code",
      "source": [
        "from pyspark.sql.functions import max, min\n",
        "\n",
        "# Calcular el máximo y mínimo de las calificaciones\n",
        "max_rating = ratings_cleaned.agg(max(\"rating\")).collect()[0][0]\n",
        "min_rating = ratings_cleaned.agg(min(\"rating\")).collect()[0][0]\n",
        "\n",
        "# Calcular el rango\n",
        "rating_range = max_rating - min_rating\n",
        "\n",
        "print(\"Máxima calificación:\", max_rating)\n",
        "print(\"Mínima calificación:\", min_rating)\n",
        "print(\"Rango de calificación:\", rating_range)"
      ],
      "metadata": {
        "colab": {
          "base_uri": "https://localhost:8080/"
        },
        "id": "JiXw0uKL0RY-",
        "outputId": "9cb342a4-d2fa-487c-c79f-3ba38bff8cf4"
      },
      "execution_count": null,
      "outputs": [
        {
          "output_type": "stream",
          "name": "stdout",
          "text": [
            "Máxima calificación: 5\n",
            "Mínima calificación: 1\n",
            "Rango de calificación: 4\n"
          ]
        }
      ]
    },
    {
      "cell_type": "code",
      "source": [
        "test_predicciones.show(50)"
      ],
      "metadata": {
        "colab": {
          "base_uri": "https://localhost:8080/"
        },
        "id": "qd5FDqibVT0A",
        "outputId": "509b3d6c-23e3-4354-efd8-6afa816fbb49"
      },
      "execution_count": null,
      "outputs": [
        {
          "output_type": "stream",
          "name": "stdout",
          "text": [
            "+-------+-------+--------------------+-----+--------------+------+----------+\n",
            "|user_id| app_id|               title|hours|is_recommended|rating|prediction|\n",
            "+-------+-------+--------------------+-----+--------------+------+----------+\n",
            "|  10999| 578080| PUBG: BATTLEGROUNDS|  247|         false|     1|0.84161645|\n",
            "|  15232| 311210|Call of Duty®: Bl...|    2|          true|     4|  3.561506|\n",
            "|  17736| 250900|The Binding of Is...|  147|          true|     4|0.99319416|\n",
            "|  23597| 275850|        No Man's Sky|   26|         false|     1| 0.8691543|\n",
            "|  23597| 289070|Sid Meier’s Civil...|   31|         false|     1| 0.8845645|\n",
            "|  30684| 359550|Tom Clancy's Rain...|  170|          true|     4| 3.8211203|\n",
            "|  59192|1222670|         The Sims™ 4|   66|          true|     4| 3.8914433|\n",
            "|  67667| 374320|     DARK SOULS™ III|   64|          true|     4|  3.648781|\n",
            "|  70586| 493520|                GTFO|    0|          true|     4|  3.635912|\n",
            "| 119812| 107410|              Arma 3|  675|          true|     5| 3.8867872|\n",
            "| 123608| 440900|        Conan Exiles|  324|          true|     4| 0.9341673|\n",
            "| 143745|1151340|          Fallout 76|  344|          true|     4| 4.4028106|\n",
            "| 144903| 275850|        No Man's Sky|   22|          true|     4| 3.6405146|\n",
            "| 151218|1063660|Bendy and the Dar...|   15|          true|     4| 3.6788993|\n",
            "| 153960| 244850|     Space Engineers|  858|          true|     5| 3.8345459|\n",
            "| 158748| 582660|        Black Desert|   31|          true|     4| 3.5240164|\n",
            "| 166848| 346110|ARK: Survival Evo...|    0|          true|     4|  3.782125|\n",
            "| 185688|1222670|         The Sims™ 4|  176|          true|     4| 3.9393508|\n",
            "| 185909| 431960|    Wallpaper Engine|   29|          true|     4| 3.7171109|\n",
            "| 198725|1172620|Sea of Thieves 20...|   74|          true|     4| 3.5483317|\n",
            "| 198728| 635260|CarX Drift Racing...|   96|          true|     4| 4.1441545|\n",
            "| 227273|1332010|               Stray|    6|          true|     4| 3.7661552|\n",
            "| 233010|1789480|           Marauders|    7|          true|     4| 3.5389218|\n",
            "| 241669| 394360|   Hearts of Iron IV|  237|         false|     1| 1.0212784|\n",
            "| 269607| 346110|ARK: Survival Evo...|  112|          true|     4|  3.871374|\n",
            "| 306166|1466860|Age of Empires IV...|    4|          true|     4| 3.7306745|\n",
            "| 332605| 686810|      Hell Let Loose|  714|         false|     3|  3.626688|\n",
            "| 357092| 271590|  Grand Theft Auto V|    5|         false|     1|  1.793386|\n",
            "| 393538| 346110|ARK: Survival Evo...|  124|          true|     4|  4.057405|\n",
            "| 413062| 815370|          Green Hell|    3|          true|     4| 3.8128362|\n",
            "| 422863| 632360|      Risk of Rain 2|   20|         false|     1| 3.6236563|\n",
            "| 427316| 291550|          Brawlhalla|  874|          true|     5| 3.7046168|\n",
            "| 463623| 367520|       Hollow Knight|   14|          true|     4| 3.7590837|\n",
            "| 467085| 386360|              SMITE®|  241|          true|     4| 3.4917452|\n",
            "| 473439| 250900|The Binding of Is...|   25|          true|     4| 3.8006465|\n",
            "| 484319|1938090|       Call of Duty®|   17|         false|     1| 3.2900813|\n",
            "| 486616| 236390|         War Thunder|   19|         false|     1| 4.4714994|\n",
            "| 503801| 431960|    Wallpaper Engine|   14|          true|     4| 3.7727282|\n",
            "| 518353| 784080|MechWarrior 5: Me...|    2|         false|     1|   3.62443|\n",
            "| 566987|   4000|         Garry's Mod|   90|          true|     4| 3.6960185|\n",
            "| 575207| 739630|        Phasmophobia|   46|          true|     4| 3.6846583|\n",
            "| 576682|  22380|  Fallout: New Vegas|   12|          true|     4|  3.613783|\n",
            "| 592658| 489830|The Elder Scrolls...|  132|          true|     4| 3.4210224|\n",
            "| 594470| 440900|        Conan Exiles|  831|          true|     5|  3.759099|\n",
            "| 619739|    570|              Dota 2|   17|         false|     1| 4.0226054|\n",
            "| 622213| 374320|     DARK SOULS™ III|   33|          true|     4| 2.3202872|\n",
            "| 623642|  39210|FINAL FANTASY XIV...|  125|          true|     4|  4.070985|\n",
            "| 626881| 493340|      Planet Coaster|    0|         false|     1| 3.8794112|\n",
            "| 632096| 602960|          Barotrauma|   30|          true|     4| 3.8319683|\n",
            "| 635407|1063660|Bendy and the Dar...|   19|          true|     4| 3.5424058|\n",
            "+-------+-------+--------------------+-----+--------------+------+----------+\n",
            "only showing top 50 rows\n",
            "\n"
          ]
        }
      ]
    },
    {
      "cell_type": "markdown",
      "source": [
        "#6. Generar Recomendaciones"
      ],
      "metadata": {
        "id": "OYnYnX9xSvvl"
      }
    },
    {
      "cell_type": "code",
      "source": [
        "nrecommendations = best_model.recommendForAllUsers(10)\n",
        "nrecommendations.limit(10).show()"
      ],
      "metadata": {
        "colab": {
          "base_uri": "https://localhost:8080/"
        },
        "id": "i6dwkrqiR4At",
        "outputId": "8ffb099c-fa4c-4435-aee1-bdd33f6b223f"
      },
      "execution_count": null,
      "outputs": [
        {
          "output_type": "stream",
          "name": "stdout",
          "text": [
            "+-------+--------------------+\n",
            "|user_id|     recommendations|\n",
            "+-------+--------------------+\n",
            "|      2|[{548430, 3.99887...|\n",
            "|    171|[{548430, 3.05394...|\n",
            "|    225|[{548430, 3.98865...|\n",
            "|    249|[{548430, 4.04594...|\n",
            "|    478|[{548430, 1.02585...|\n",
            "|    529|[{548430, 3.98865...|\n",
            "|    641|[{548430, 1.03484...|\n",
            "|    800|[{548430, 3.89781...|\n",
            "|    946|[{548430, 4.13278...|\n",
            "|   1096|[{548430, 5.11745...|\n",
            "+-------+--------------------+\n",
            "\n"
          ]
        }
      ]
    },
    {
      "cell_type": "code",
      "source": [
        "juegos_cleaned.show()"
      ],
      "metadata": {
        "colab": {
          "base_uri": "https://localhost:8080/"
        },
        "id": "OIGteRiQXmH4",
        "outputId": "65223409-cc73-4590-ec5b-3d98b7b1ca66"
      },
      "execution_count": null,
      "outputs": [
        {
          "output_type": "stream",
          "name": "stdout",
          "text": [
            "+------+--------------------+------------+----+-----+-----+---------------+--------------+------------+-----------+--------------+--------+----------+\n",
            "|app_id|               title|date_release| win|  mac|linux|         rating|positive_ratio|user_reviews|price_final|price_original|discount|steam_deck|\n",
            "+------+--------------------+------------+----+-----+-----+---------------+--------------+------------+-----------+--------------+--------+----------+\n",
            "| 13500|Prince of Persia:...|  2008-11-21|true|false|false|  Very Positive|            84|        2199|       9.99|          9.99|     0.0|      true|\n",
            "| 22364|BRINK: Agents of ...|  2011-08-03|true|false|false|       Positive|            85|          21|       2.99|          2.99|     0.0|      true|\n",
            "|113020|Monaco: What's Yo...|  2013-04-24|true| true| true|  Very Positive|            92|        3722|      14.99|         14.99|     0.0|      true|\n",
            "|226560|  Escape Dead Island|  2014-11-18|true|false|false|          Mixed|            61|         873|      14.99|         14.99|     0.0|      true|\n",
            "|249050|Dungeon of the EN...|  2014-10-27|true| true|false|  Very Positive|            88|        8784|      11.99|         11.99|     0.0|      true|\n",
            "|250180|        METAL SLUG 3|  2015-09-14|true|false|false|  Very Positive|            90|        5579|       7.99|          7.99|     0.0|      true|\n",
            "|253980|             Enclave|  2013-10-04|true| true| true|Mostly Positive|            75|        1608|       4.99|          4.99|     0.0|      true|\n",
            "|271850|Men of War: Assau...|  2014-05-16|true|false|false|          Mixed|            61|         199|       6.99|          6.99|     0.0|      true|\n",
            "|282900|Hyperdimension Ne...|  2015-01-29|true|false|false|  Very Positive|            94|        9686|      14.99|         14.99|     0.0|      true|\n",
            "| 19810|The Sum of All Fears|  2008-10-10|true|false|false|Mostly Positive|            75|          33|       9.99|          9.99|     0.0|      true|\n",
            "| 15270|          Cold Fear™|  2008-05-13|true|false|false|  Very Positive|            85|         800|       9.99|          9.99|     0.0|      true|\n",
            "| 21130|LEGO® Harry Potte...|  2010-06-25|true|false|false|  Very Positive|            85|        5169|      19.99|         19.99|     0.0|      true|\n",
            "| 22130|Hearts of Iron 2 ...|  2009-01-23|true|false|false|  Very Positive|            85|         462|      14.99|         14.99|     0.0|      true|\n",
            "| 29180|               Osmos|  2009-08-18|true| true| true|  Very Positive|            88|         532|       9.99|          9.99|     0.0|      true|\n",
            "| 32750|          Comanche 4|  2009-06-18|true|false|false|  Very Positive|            90|         222|       9.99|          9.99|     0.0|      true|\n",
            "|241620|          Inquisitor|  2013-08-01|true|false|false|Mostly Positive|            70|         390|       9.99|          9.99|     0.0|      true|\n",
            "|408520|                FORM|  2017-06-01|true|false|false|  Very Positive|            91|         934|      14.99|         14.99|     0.0|      true|\n",
            "|244910|            Homesick|  2015-05-28|true|false|false|Mostly Positive|            77|        1139|      14.99|         14.99|     0.0|      true|\n",
            "|245950|Borderlands 2: He...|  2014-02-11|true| true| true|  Very Positive|            84|         294|       0.89|          2.99|    70.0|      true|\n",
            "|250460|  Bridge Constructor|  2013-10-16|true| true| true|Mostly Positive|            77|         716|       2.39|         19.99|    88.0|      true|\n",
            "+------+--------------------+------------+----+-----+-----+---------------+--------------+------------+-----------+--------------+--------+----------+\n",
            "only showing top 20 rows\n",
            "\n"
          ]
        }
      ]
    },
    {
      "cell_type": "code",
      "source": [
        "ratings_cleaned.show()"
      ],
      "metadata": {
        "colab": {
          "base_uri": "https://localhost:8080/"
        },
        "id": "43NARdyYcOge",
        "outputId": "c10f0d49-fb9e-4c14-c46c-8bbe4d6f5290"
      },
      "execution_count": null,
      "outputs": [
        {
          "output_type": "stream",
          "name": "stdout",
          "text": [
            "+-------+-------+--------------------+-----+--------------+------+\n",
            "|user_id| app_id|               title|hours|is_recommended|rating|\n",
            "+-------+-------+--------------------+-----+--------------+------+\n",
            "|  51580| 975370|      Dwarf Fortress|   36|          true|     4|\n",
            "|   2586| 304390|          FOR HONOR™|   11|         false|     1|\n",
            "| 253880|1085660|           Destiny 2|  336|          true|     4|\n",
            "| 259432| 703080|          Planet Zoo|   27|          true|     4|\n",
            "|  23869| 526870|        Satisfactory|    7|          true|     4|\n",
            "|  45425| 306130|The Elder Scrolls...|    8|          true|     4|\n",
            "|  88282| 238960|       Path of Exile|  538|          true|     5|\n",
            "|  63209|    730|Counter-Strike: G...|  157|         false|     1|\n",
            "| 354512| 255710|    Cities: Skylines|   18|          true|     4|\n",
            "| 454422| 289070|Sid Meier’s Civil...|  397|          true|     4|\n",
            "| 199725| 431960|    Wallpaper Engine|   30|          true|     4|\n",
            "|  85822|1086940|     Baldur's Gate 3|   50|          true|     4|\n",
            "| 161081|1938090|       Call of Duty®|   46|          true|     4|\n",
            "| 113279|1286830|STAR WARS™: The O...|   19|          true|     4|\n",
            "| 122640|1172620|Sea of Thieves 20...|   89|          true|     4|\n",
            "|  75422| 306130|The Elder Scrolls...|   61|          true|     4|\n",
            "|  76583| 635260|CarX Drift Racing...|  177|          true|     4|\n",
            "| 124924|1151340|          Fallout 76|   86|          true|     4|\n",
            "| 261528| 289070|Sid Meier’s Civil...|  244|          true|     4|\n",
            "| 408750| 392160|     X4: Foundations|  320|         false|     2|\n",
            "+-------+-------+--------------------+-----+--------------+------+\n",
            "only showing top 20 rows\n",
            "\n"
          ]
        }
      ]
    },
    {
      "cell_type": "code",
      "source": [
        "data = nrecommendations.join(ratings_cleaned, on='user_id').show()"
      ],
      "metadata": {
        "colab": {
          "base_uri": "https://localhost:8080/"
        },
        "id": "PkIoXiYFZW_G",
        "outputId": "103c0dab-20d9-4652-ff34-521477b69256"
      },
      "execution_count": null,
      "outputs": [
        {
          "output_type": "stream",
          "name": "stdout",
          "text": [
            "+-------+--------------------+-------+--------------------+-----+--------------+------+\n",
            "|user_id|     recommendations| app_id|               title|hours|is_recommended|rating|\n",
            "+-------+--------------------+-------+--------------------+-----+--------------+------+\n",
            "|      2|[{548430, 3.99887...| 291550|          Brawlhalla|   12|          true|     4|\n",
            "|    171|[{548430, 3.05394...| 582660|        Black Desert|  854|         false|     3|\n",
            "|    225|[{548430, 3.98865...| 108600|     Project Zomboid|   40|          true|     4|\n",
            "|    249|[{548430, 4.04594...|1286830|STAR WARS™: The O...|    0|          true|     4|\n",
            "|    478|[{548430, 1.02585...| 376210|            The Isle|    2|         false|     1|\n",
            "|    529|[{548430, 3.98865...| 108600|     Project Zomboid|  112|          true|     4|\n",
            "|    641|[{548430, 1.03484...|1789480|           Marauders|    1|         false|     1|\n",
            "|    800|[{548430, 3.89781...| 250900|The Binding of Is...|  434|          true|     4|\n",
            "|    946|[{548430, 4.13278...|1172620|Sea of Thieves 20...|  349|          true|     4|\n",
            "|   1096|[{548430, 5.11745...|    730|Counter-Strike: G...|  721|          true|     5|\n",
            "|   1104|[{548430, 1.03434...| 275850|        No Man's Sky|   88|         false|     1|\n",
            "|   1116|[{548430, 5.36593...| 438100|              VRChat|  983|          true|     5|\n",
            "|   1254|[{548430, 4.17939...|1599340|            Lost Ark|  166|          true|     4|\n",
            "|   1308|[{548430, 3.90419...| 431960|    Wallpaper Engine|    7|          true|     4|\n",
            "|   1427|[{548430, 4.33210...|1938090|       Call of Duty®|  236|          true|     4|\n",
            "|   1431|[{548430, 5.11745...|    730|Counter-Strike: G...|  999|          true|     5|\n",
            "|   1558|[{548430, 3.84531...| 252490|                Rust|  356|          true|     4|\n",
            "|   1740|[{548430, 4.25107...|1151640|Horizon Zero Dawn...|   53|          true|     4|\n",
            "|   1889|[{548430, 5.11745...|    730|Counter-Strike: G...|  617|          true|     5|\n",
            "|   2017|[{548430, 1.08302...|1938090|       Call of Duty®|   70|         false|     1|\n",
            "+-------+--------------------+-------+--------------------+-----+--------------+------+\n",
            "only showing top 20 rows\n",
            "\n"
          ]
        }
      ]
    },
    {
      "cell_type": "code",
      "source": [
        "ratings_cleaned.filter(ratings_cleaned.user_id == 1427).show()"
      ],
      "metadata": {
        "colab": {
          "base_uri": "https://localhost:8080/"
        },
        "id": "LHYbMdL9gMgP",
        "outputId": "b258b198-cea2-46bf-c745-fff830b25fb3"
      },
      "execution_count": null,
      "outputs": [
        {
          "output_type": "stream",
          "name": "stdout",
          "text": [
            "+-------+-------+-------------+-----+--------------+------+\n",
            "|user_id| app_id|        title|hours|is_recommended|rating|\n",
            "+-------+-------+-------------+-----+--------------+------+\n",
            "|   1427|1938090|Call of Duty®|  236|          true|     4|\n",
            "+-------+-------+-------------+-----+--------------+------+\n",
            "\n"
          ]
        }
      ]
    },
    {
      "cell_type": "code",
      "source": [
        "ratings_cleaned.filter(ratings_cleaned.user_id == 478).show()"
      ],
      "metadata": {
        "colab": {
          "base_uri": "https://localhost:8080/"
        },
        "id": "6ZIpHYq0lL1Q",
        "outputId": "de57d3e8-fe8b-4586-9bee-d1f0913d0312"
      },
      "execution_count": null,
      "outputs": [
        {
          "output_type": "stream",
          "name": "stdout",
          "text": [
            "+-------+------+--------+-----+--------------+------+\n",
            "|user_id|app_id|   title|hours|is_recommended|rating|\n",
            "+-------+------+--------+-----+--------------+------+\n",
            "|    478|376210|The Isle|    2|         false|     1|\n",
            "+-------+------+--------+-----+--------------+------+\n",
            "\n"
          ]
        }
      ]
    },
    {
      "cell_type": "code",
      "source": [
        "ratings_cleaned.filter(ratings_cleaned.app_id == 1938090).show()"
      ],
      "metadata": {
        "colab": {
          "base_uri": "https://localhost:8080/"
        },
        "id": "fD0C9Sxvg1WP",
        "outputId": "07759f3f-81f1-4c7e-945d-5ab828bfdf52"
      },
      "execution_count": null,
      "outputs": [
        {
          "output_type": "stream",
          "name": "stdout",
          "text": [
            "+--------+-------+-------------+-----+--------------+------+\n",
            "| user_id| app_id|        title|hours|is_recommended|rating|\n",
            "+--------+-------+-------------+-----+--------------+------+\n",
            "|  161081|1938090|Call of Duty®|   46|          true|     4|\n",
            "|  664486|1938090|Call of Duty®|    7|          true|     4|\n",
            "|  903527|1938090|Call of Duty®|   98|          true|     4|\n",
            "| 1271336|1938090|Call of Duty®|  124|          true|     4|\n",
            "| 7909145|1938090|Call of Duty®|   17|         false|     1|\n",
            "|11131971|1938090|Call of Duty®|  123|         false|     1|\n",
            "|13330978|1938090|Call of Duty®|   88|          true|     4|\n",
            "|  188838|1938090|Call of Duty®|  302|          true|     4|\n",
            "| 5929717|1938090|Call of Duty®|  192|         false|     1|\n",
            "| 8951161|1938090|Call of Duty®|  150|         false|     1|\n",
            "| 1072234|1938090|Call of Duty®|   17|         false|     1|\n",
            "| 4697968|1938090|Call of Duty®|  206|          true|     4|\n",
            "| 6880727|1938090|Call of Duty®|   54|          true|     4|\n",
            "| 7179102|1938090|Call of Duty®|   39|         false|     1|\n",
            "| 1863686|1938090|Call of Duty®|  135|          true|     4|\n",
            "| 6072048|1938090|Call of Duty®|   57|         false|     1|\n",
            "| 8672245|1938090|Call of Duty®|   93|          true|     4|\n",
            "| 4374667|1938090|Call of Duty®|  311|          true|     4|\n",
            "| 4717532|1938090|Call of Duty®|   16|          true|     4|\n",
            "| 6758969|1938090|Call of Duty®|  198|          true|     4|\n",
            "+--------+-------+-------------+-----+--------------+------+\n",
            "only showing top 20 rows\n",
            "\n"
          ]
        }
      ]
    },
    {
      "cell_type": "code",
      "source": [
        "ratings_cleaned.sort('user_id', ascending=False).show(10, truncate=False)"
      ],
      "metadata": {
        "colab": {
          "base_uri": "https://localhost:8080/"
        },
        "id": "y-Jw9MwFmQCJ",
        "outputId": "21470b43-3c75-46f4-b1c2-72b35d1569ce"
      },
      "execution_count": null,
      "outputs": [
        {
          "output_type": "stream",
          "name": "stdout",
          "text": [
            "+--------+-------+----------------------------+-----+--------------+------+\n",
            "|user_id |app_id |title                       |hours|is_recommended|rating|\n",
            "+--------+-------+----------------------------+-----+--------------+------+\n",
            "|14305844|270880 |American Truck Simulator    |121  |true          |4     |\n",
            "|14305769|252490 |Rust                        |600  |false         |3     |\n",
            "|14305581|1449850|Yu-Gi-Oh! Master Duel       |106  |false         |1     |\n",
            "|14305542|1426210|It Takes Two                |15   |true          |4     |\n",
            "|14305385|1245620|ELDEN RING                  |136  |true          |4     |\n",
            "|14305333|289070 |Sid Meier’s Civilization® VI|56   |true          |4     |\n",
            "|14305263|244850 |Space Engineers             |586  |true          |5     |\n",
            "|14305218|397540 |Borderlands 3               |21   |true          |4     |\n",
            "|14304939|1086940|Baldur's Gate 3             |101  |true          |4     |\n",
            "|14304908|292030 |The Witcher® 3: Wild Hunt   |136  |true          |4     |\n",
            "+--------+-------+----------------------------+-----+--------------+------+\n",
            "only showing top 10 rows\n",
            "\n"
          ]
        }
      ]
    },
    {
      "cell_type": "code",
      "source": [
        "#Crear un dataframe con un nuevo usuario\n",
        "df_usuarios = spark.createDataFrame([(14305845,1938090,'Call of Duty®'),(14305845,376210,'The Isle') ], ['user_id', 'app_id','title'])\n",
        "df_usuarios.show()"
      ],
      "metadata": {
        "colab": {
          "base_uri": "https://localhost:8080/"
        },
        "id": "wUPPG7avhM9f",
        "outputId": "3fa0def9-cfd3-4b7d-d62d-86480b0b9291"
      },
      "execution_count": null,
      "outputs": [
        {
          "output_type": "stream",
          "name": "stdout",
          "text": [
            "+--------+-------+-------------+\n",
            "| user_id| app_id|        title|\n",
            "+--------+-------+-------------+\n",
            "|14305845|1938090|Call of Duty®|\n",
            "|14305845| 376210|     The Isle|\n",
            "+--------+-------+-------------+\n",
            "\n"
          ]
        }
      ]
    },
    {
      "cell_type": "code",
      "source": [
        "rating_mayor = ratings_cleaned.groupby(\"user_id\").count().orderBy(\"count\", ascending=False)\n",
        "rating_mayor.head(5)"
      ],
      "metadata": {
        "colab": {
          "base_uri": "https://localhost:8080/"
        },
        "id": "QJ3Z0ZPnrKeR",
        "outputId": "35666f16-8a7a-4a22-b849-b254e5157082"
      },
      "execution_count": null,
      "outputs": [
        {
          "output_type": "execute_result",
          "data": {
            "text/plain": [
              "[Row(user_id=8993770, count=5),\n",
              " Row(user_id=13732650, count=4),\n",
              " Row(user_id=6903401, count=4),\n",
              " Row(user_id=14131444, count=4),\n",
              " Row(user_id=11634442, count=4)]"
            ]
          },
          "metadata": {},
          "execution_count": 175
        }
      ]
    },
    {
      "cell_type": "code",
      "source": [
        "ratings_cleaned.filter(ratings_cleaned.user_id == 8993770).show()"
      ],
      "metadata": {
        "colab": {
          "base_uri": "https://localhost:8080/"
        },
        "id": "zmAdHDEVsvOL",
        "outputId": "69f29aae-6b18-4fcb-a0b1-6ead6beb6b19"
      },
      "execution_count": null,
      "outputs": [
        {
          "output_type": "stream",
          "name": "stdout",
          "text": [
            "+-------+-------+--------------------+-----+--------------+------+\n",
            "|user_id| app_id|               title|hours|is_recommended|rating|\n",
            "+-------+-------+--------------------+-----+--------------+------+\n",
            "|8993770|1044720|   Farthest Frontier|   55|          true|     4|\n",
            "|8993770|1250410|Microsoft Flight ...|   93|          true|     4|\n",
            "|8993770|1184370|Pathfinder: Wrath...|   16|          true|     4|\n",
            "|8993770|1240440|       Halo Infinite|  197|          true|     4|\n",
            "|8993770|1496790|      Gotham Knights|    4|         false|     1|\n",
            "+-------+-------+--------------------+-----+--------------+------+\n",
            "\n"
          ]
        }
      ]
    },
    {
      "cell_type": "code",
      "source": [
        "# Usuario que tiene mayor recomendaciones\n",
        "usu_r = ratings_cleaned.filter(ratings_cleaned['user_id'] == 8993770)\n",
        "usu_r.show()"
      ],
      "metadata": {
        "colab": {
          "base_uri": "https://localhost:8080/"
        },
        "id": "yIsybJ3vsjcK",
        "outputId": "195d91f4-2f8e-4b7f-9a6a-b37044f70dae"
      },
      "execution_count": null,
      "outputs": [
        {
          "output_type": "stream",
          "name": "stdout",
          "text": [
            "+-------+-------+--------------------+-----+--------------+------+\n",
            "|user_id| app_id|               title|hours|is_recommended|rating|\n",
            "+-------+-------+--------------------+-----+--------------+------+\n",
            "|8993770|1044720|   Farthest Frontier|   55|          true|     4|\n",
            "|8993770|1250410|Microsoft Flight ...|   93|          true|     4|\n",
            "|8993770|1184370|Pathfinder: Wrath...|   16|          true|     4|\n",
            "|8993770|1240440|       Halo Infinite|  197|          true|     4|\n",
            "|8993770|1496790|      Gotham Knights|    4|         false|     1|\n",
            "+-------+-------+--------------------+-----+--------------+------+\n",
            "\n"
          ]
        }
      ]
    },
    {
      "cell_type": "markdown",
      "source": [
        "##Recomendar juegos al usuario con la id 8993770"
      ],
      "metadata": {
        "id": "AAPsUttl4Sdz"
      }
    },
    {
      "cell_type": "code",
      "source": [
        "from pyspark.sql import functions as F\n",
        "\n",
        "user_id = 8993770\n",
        "num_recommendations = 10\n",
        "\n",
        "# Obtén todas las recomendaciones para todos los usuarios\n",
        "all_recommendations = best_model.recommendForAllUsers(num_recommendations)\n",
        "\n",
        "# Filtra las recomendaciones para el usuario específico\n",
        "user_recommendations = all_recommendations.filter(F.col(\"user_id\") == user_id)\n",
        "\n",
        "# Explora las recomendaciones para el usuario\n",
        "user_recommendations.show()"
      ],
      "metadata": {
        "colab": {
          "base_uri": "https://localhost:8080/"
        },
        "id": "KpOjfM7UwyU8",
        "outputId": "d1674050-7c66-4f6b-aad2-17fe7b0161f3"
      },
      "execution_count": null,
      "outputs": [
        {
          "output_type": "stream",
          "name": "stdout",
          "text": [
            "+-------+--------------------+\n",
            "|user_id|     recommendations|\n",
            "+-------+--------------------+\n",
            "|8993770|[{548430, 4.25449...|\n",
            "+-------+--------------------+\n",
            "\n"
          ]
        }
      ]
    },
    {
      "cell_type": "code",
      "source": [
        "from pyspark.sql.functions import explode\n",
        "\n",
        "user_id = 8993770\n",
        "\n",
        "# Filtra el DataFrame para obtener las recomendaciones para el usuario específico\n",
        "user_recommendations = user_recommendations.filter(user_recommendations.user_id == user_id)\n",
        "\n",
        "# Usa la función 'explode' para convertir la columna de listas en múltiples filas\n",
        "user_recommendations_exploded = user_recommendations.select(\"user_id\", explode(\"recommendations\").alias(\"recommendation\"))\n",
        "\n",
        "# Extrae los campos individuales de la estructura recomendación\n",
        "user_recommendations_final = user_recommendations_exploded.select(\n",
        "    \"user_id\",\n",
        "    \"recommendation.app_id\",\n",
        "    \"recommendation.rating\"\n",
        ")"
      ],
      "metadata": {
        "id": "MFBXjE5f075r"
      },
      "execution_count": null,
      "outputs": []
    },
    {
      "cell_type": "code",
      "source": [
        "from pyspark.sql.functions import col\n",
        "\n",
        "# Unión de DataFrames basada en la columna 'app_id'\n",
        "user_recommendations_with_titles = user_recommendations_final.join(\n",
        "    ratings_cleaned,\n",
        "    user_recommendations_final.app_id == ratings_cleaned.app_id\n",
        ").select(\n",
        "    user_recommendations_final[\"user_id\"],\n",
        "    user_recommendations_final[\"app_id\"],\n",
        "    ratings_cleaned[\"title\"],\n",
        "    user_recommendations_final[\"rating\"]\n",
        ").dropDuplicates()\n",
        "\n",
        "# Muestra las recomendaciones con títulos sin duplicados\n",
        "user_recommendations_with_titles.show()"
      ],
      "metadata": {
        "colab": {
          "base_uri": "https://localhost:8080/"
        },
        "id": "G6_nYOgB1QTE",
        "outputId": "c3afa3be-2e5e-4039-8a81-1e8b9b6a82fd"
      },
      "execution_count": null,
      "outputs": [
        {
          "output_type": "stream",
          "name": "stdout",
          "text": [
            "+-------+------+--------------------+---------+\n",
            "|user_id|app_id|               title|   rating|\n",
            "+-------+------+--------------------+---------+\n",
            "|8993770|  4000|         Garry's Mod|4.1865788|\n",
            "|8993770|252490|                Rust|  4.12766|\n",
            "|8993770|526870|        Satisfactory|4.0907865|\n",
            "|8993770|   570|              Dota 2|4.2405243|\n",
            "|8993770|105600|            Terraria|4.2408776|\n",
            "|8993770|294100|            RimWorld|4.1383023|\n",
            "|8993770|107410|              Arma 3|4.1369596|\n",
            "|8993770|394360|   Hearts of Iron IV|4.1782303|\n",
            "|8993770|548430|  Deep Rock Galactic|4.2544966|\n",
            "|8993770| 39210|FINAL FANTASY XIV...|4.2015495|\n",
            "+-------+------+--------------------+---------+\n",
            "\n"
          ]
        }
      ]
    },
    {
      "cell_type": "markdown",
      "source": [
        "#**Conclusión**\n",
        "\n",
        "##Basándose en los resultados obtenidos, parece que el modelo de recomendación ha sugerido juegos con altas calificaciones (\"rating\") para el usuario con el ID 8993770. Los títulos recomendados incluyen juegos populares y bien valorados, como \"Garry's Mod\", \"Rust\", \"Satisfactory\", \"Dota 2\", \"Terraria\" y otros. La calificación asociada con cada recomendación indica la estimación de gusto del usuario para ese juego en particular.\n",
        "\n",
        "##En cuanto al éxito, se puede afirmar que el modelo ha demostrado ser efectivo al proporcionar recomendaciones que están alineadas con los gustos y preferencias del usuario. La consistencia de las calificaciones estimadas, que son generalmente altas, sugiere que el modelo ha logrado capturar de manera acertada los patrones de preferencia del usuario, ofreciendo así recomendaciones significativas y relevantes."
      ],
      "metadata": {
        "id": "VLnXduq96EI-"
      }
    }
  ]
}